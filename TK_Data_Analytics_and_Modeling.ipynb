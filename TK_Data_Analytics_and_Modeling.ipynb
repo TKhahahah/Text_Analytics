{
  "cells": [
    {
      "cell_type": "markdown",
      "metadata": {
        "id": "view-in-github",
        "colab_type": "text"
      },
      "source": [
        "<a href=\"https://colab.research.google.com/github/TKhahahah/Text_Analytics/blob/main/TK_Data_Analytics_and_Modeling.ipynb\" target=\"_parent\"><img src=\"https://colab.research.google.com/assets/colab-badge.svg\" alt=\"Open In Colab\"/></a>"
      ]
    },
    {
      "cell_type": "markdown",
      "id": "0e197877",
      "metadata": {
        "id": "0e197877"
      },
      "source": [
        "# Mini Project 2: Data Analytics and Modeling"
      ]
    },
    {
      "cell_type": "markdown",
      "id": "e813eff6",
      "metadata": {
        "id": "e813eff6"
      },
      "source": [
        "<img src=\"https://datarundown.com/wp-content/uploads/2023/05/Model-Data-Analytics.jpg\" width=\"400px\">"
      ]
    },
    {
      "cell_type": "markdown",
      "id": "68f61d7b",
      "metadata": {
        "id": "68f61d7b"
      },
      "source": [
        "ชื่อกลุ่ม: ...\n",
        "\n",
        "รายชื่อสมาชิก การแบ่งงาน และสัดส่วนในการทำงาน:\n",
        "1. ...\n",
        "2. ...\n",
        "3. ...\n",
        "4. ...\n",
        "\n",
        "กำหนดส่ง: ศุกร์ 24 ตุลาคม 2568  \n",
        "\n",
        "รายงานในชั้นเรียน: เสาร์ 25 ตุลาคม 2568\n",
        "\n",
        "** NOTE **\n",
        "* อย่าลืมบันทึกงานที่ทำในโน้ตบุ๊คนี้เป็นประจำขณะทำงาน มิเช่นนั้นงานที่ทำอยู่อาจสูญหายได้\n",
        "* **เริ่มทำแต่เนิ่น ๆ อย่ารอที่จะทำก่อนส่ง เพราะจะทำไม่เสร็จ เนื่องจากปัญหามากมายที่จะเกิดขึ้นระหว่างการทำงาน และอาจารย์ไม่รับปรึกษาในคืนก่อนส่ง**\n",
        "----------------------"
      ]
    },
    {
      "cell_type": "markdown",
      "id": "175bd542",
      "metadata": {
        "id": "175bd542"
      },
      "source": [
        "### เลือกชุดข้อมูล 1 ชุดจากข้อมูลที่กำหนดให้ต่อไปนี้\n",
        "* <b>MovieLens 1M Data Set<b>\n",
        "    * ข้อมูลชุดนี้มีข้อมูลเกี่ยวกับ movies, users, และ how they rate the movies\n",
        "    * สามารถดูรายละเอียดได้ที่ http://grouplens.org/datasets/movielens/\n",
        "    * Download the 1 million ratings data set from https://grouplens.org/datasets/movielens/1m/\n",
        "    * Merge all of the data into a single Pandas DataFrame. See\n",
        "        * https://pandas.pydata.org/docs/reference/api/pandas.DataFrame.merge.html\n",
        "    \n",
        "* <b>Walmart_Sales_Forecast<b>\n",
        "    * สามารถดูรายละเอียดได้ที่ https://github.com/Asikpalysik/Walmart_Sales_Forecast/tree/main\n",
        "    * ข้อมูลประกอบด้วยไฟล์ features.csv, stores.csv และ ข้อมูลยอดขาย (train.csv และ test.csv)\n",
        "    * ให้ใช้ข้อมูลจากทุกไฟล์ทุกอย่างประกอบกันในการวิเคราะห์\n",
        "    \n",
        "* <b>NYC Taxi Trips<b>\n",
        "    * ข้อมูลทริปของแท็กซี่ในเมืองนิวยอร์กจาก https://www.nyc.gov/site/tlc/about/tlc-trip-record-data.page\n",
        "    * ข้อมูลเก็บโดย The NYC Taxi and Limousine Commission (TLC) ประกอบด้วย pick-up and drop-off dates/times, pick-up and drop-off locations, trip distances, itemized fares, rate types, payment types, and driver-reported passenger counts\n",
        "    * นอกจากไฟล์ข้อมูลทริปของแท็กซี่แล้ว ยังมีข้อมูลเกี่ยวกับ zone ของพื้นที่ที่ให้บริการ และคำอธิบายข้อมูลในส่วนล่างสุดของหน้าเดียวกัน\n",
        "    * ให้ศึกษาข้อมูลการเดินทางของแท็กซี่เหลืองหรือแท็กซี่เขียวในช่วงหนึ่ง (เช่น 1 เดือน หรือ 1 ปีที่ผ่านมา เป็นต้น)\n",
        "    * ตัวอย่างการอ่านไฟล์ parquet\n",
        "    ```python\n",
        "    # install this module to read .parquet files\n",
        "    !pip install pyarrow\n",
        "    import pyarrow.parquet as pq\n",
        "    trips = pq.read_table('yellow_tripdata_2023-09.parquet')\n",
        "    trips = trips.to_pandas()\n",
        "    trips\n",
        "    ```\n",
        "    \n",
        "----------------------------------"
      ]
    },
    {
      "cell_type": "markdown",
      "id": "a9b4d1ad",
      "metadata": {
        "id": "a9b4d1ad"
      },
      "source": [
        "### ศึกษาข้อมูลที่เลือกใช้ แล้วทำการ\n",
        "* Tell story about data อธิบายลักษณะของข้อมูล ทำความเข้าใจเกี่ยวกับข้อมูลชุดนี้ ด้วยสถิติ และนำเสนอด้วยแผนภาพ แผนภูมิ หรือกราฟต่าง ๆ\n",
        "* ตั้ง<span style=\"color:red\">*ปัญหาหรือคำถามเชิงองค์กรหรือธุรกิจ*</span>ที่กลุ่มท่านสนใจเกี่ยวกับข้อมูลนี้ แล้วทำการคาดการณ์ (conjectures) เกี่ยวกับ<span style=\"color:red\">*ปัญหาหรือคำถาม*</span>ที่ได้ตั้งไว้อย่างน้อย 3 ข้อ แล้วสนับสนุนหรือปฏิเสธข้อคาดการณ์ด้วยการวิเคราะห์ข้อมูลหรือด้วย data visualization\n",
        "    * ปัญหาที่สนใจมีความสำคัญอย่างไร?\n",
        "    * ข้อคาดการณ์ของท่านจะนำไปสู่การแก้ไขปัญหาหรือตอบคำถามอย่างไร?\n",
        "* สร้างตัวแบบทำนายโดยใช้ข้อมูลที่เลือกในการตอบปัญหาหรือคำถาม\n",
        "    * prepare data\n",
        "    * feature engineering\n",
        "    * partition data (consider class if any)\n",
        "    * handle imbalance data\n",
        "    * build model\n",
        "      * hyperparameter tuning\n",
        "    * test model"
      ]
    },
    {
      "cell_type": "markdown",
      "id": "8fd04360",
      "metadata": {
        "id": "8fd04360"
      },
      "source": [
        "#### ปัญหา/คำถามที่สนใจคืออะไร\n",
        "...\n",
        "\n",
        "#### ปัญหา/คำถามที่สนใจมีความสำคัญอย่างไร?\n",
        "...\n",
        "\n",
        "#### ข้อคาดการณ์ของท่านจะนำไปสู่การแก้ไขปัญหาหรือตอบคำถาม\n",
        "1. ...\n",
        "2. ...\n",
        "3. ...\n",
        "4. (Optional)\n",
        "5. (Optional)"
      ]
    },
    {
      "cell_type": "markdown",
      "id": "2d96f1c0",
      "metadata": {
        "id": "2d96f1c0"
      },
      "source": [
        "## Data Loading"
      ]
    },
    {
      "cell_type": "code",
      "execution_count": 17,
      "id": "24777ecb",
      "metadata": {
        "id": "24777ecb"
      },
      "outputs": [],
      "source": [
        "# Load data✅\n",
        "\n",
        "# Merge data if necessary✅\n",
        "import pandas as pd\n",
        "import polars as pl"
      ]
    },
    {
      "cell_type": "code",
      "source": [
        "from google.colab import drive\n",
        "drive.mount('/content/drive')"
      ],
      "metadata": {
        "colab": {
          "base_uri": "https://localhost:8080/"
        },
        "id": "CxWG4WVNnGhI",
        "outputId": "71a54864-855c-40f8-f27b-2fb92b48dd61"
      },
      "id": "CxWG4WVNnGhI",
      "execution_count": 18,
      "outputs": [
        {
          "output_type": "stream",
          "name": "stdout",
          "text": [
            "Drive already mounted at /content/drive; to attempt to forcibly remount, call drive.mount(\"/content/drive\", force_remount=True).\n"
          ]
        }
      ]
    },
    {
      "cell_type": "code",
      "source": [
        "!pip install pyarrow\n",
        "import pyarrow.parquet as pq"
      ],
      "metadata": {
        "colab": {
          "base_uri": "https://localhost:8080/"
        },
        "id": "LDDqC2Ys3VEY",
        "outputId": "0eaade58-8c32-495c-a65b-0c00fc4f6b5d"
      },
      "id": "LDDqC2Ys3VEY",
      "execution_count": 19,
      "outputs": [
        {
          "output_type": "stream",
          "name": "stdout",
          "text": [
            "Requirement already satisfied: pyarrow in /usr/local/lib/python3.12/dist-packages (18.1.0)\n"
          ]
        }
      ]
    },
    {
      "cell_type": "code",
      "source": [
        "oct_ytaxi = pl.read_parquet('/content/drive/MyDrive/DTW2/yellow_tripdata_2024-10.parquet')\n",
        "oct_ytaxi\n"
      ],
      "metadata": {
        "colab": {
          "base_uri": "https://localhost:8080/",
          "height": 458
        },
        "id": "H5Yxs4-JV8qJ",
        "outputId": "3d753def-aace-463b-e547-7d1bc597c213"
      },
      "id": "H5Yxs4-JV8qJ",
      "execution_count": 20,
      "outputs": [
        {
          "output_type": "execute_result",
          "data": {
            "text/plain": [
              "shape: (3_833_771, 19)\n",
              "┌──────────┬───────────┬───────────┬───────────┬───┬───────────┬───────────┬───────────┬───────────┐\n",
              "│ VendorID ┆ tpep_pick ┆ tpep_drop ┆ passenger ┆ … ┆ improveme ┆ total_amo ┆ congestio ┆ Airport_f │\n",
              "│ ---      ┆ up_dateti ┆ off_datet ┆ _count    ┆   ┆ nt_surcha ┆ unt       ┆ n_surchar ┆ ee        │\n",
              "│ i32      ┆ me        ┆ ime       ┆ ---       ┆   ┆ rge       ┆ ---       ┆ ge        ┆ ---       │\n",
              "│          ┆ ---       ┆ ---       ┆ i64       ┆   ┆ ---       ┆ f64       ┆ ---       ┆ f64       │\n",
              "│          ┆ datetime[ ┆ datetime[ ┆           ┆   ┆ f64       ┆           ┆ f64       ┆           │\n",
              "│          ┆ ns]       ┆ ns]       ┆           ┆   ┆           ┆           ┆           ┆           │\n",
              "╞══════════╪═══════════╪═══════════╪═══════════╪═══╪═══════════╪═══════════╪═══════════╪═══════════╡\n",
              "│ 2        ┆ 2024-10-0 ┆ 2024-10-0 ┆ 1         ┆ … ┆ 1.0       ┆ 24.9      ┆ 2.5       ┆ 0.0       │\n",
              "│          ┆ 1         ┆ 1         ┆           ┆   ┆           ┆           ┆           ┆           │\n",
              "│          ┆ 00:30:44  ┆ 00:48:26  ┆           ┆   ┆           ┆           ┆           ┆           │\n",
              "│ 1        ┆ 2024-10-0 ┆ 2024-10-0 ┆ 1         ┆ … ┆ 1.0       ┆ 23.0      ┆ 2.5       ┆ 0.0       │\n",
              "│          ┆ 1         ┆ 1         ┆           ┆   ┆           ┆           ┆           ┆           │\n",
              "│          ┆ 00:12:20  ┆ 00:25:25  ┆           ┆   ┆           ┆           ┆           ┆           │\n",
              "│ 1        ┆ 2024-10-0 ┆ 2024-10-0 ┆ 1         ┆ … ┆ 1.0       ┆ 22.2      ┆ 2.5       ┆ 0.0       │\n",
              "│          ┆ 1         ┆ 1         ┆           ┆   ┆           ┆           ┆           ┆           │\n",
              "│          ┆ 00:04:46  ┆ 00:13:52  ┆           ┆   ┆           ┆           ┆           ┆           │\n",
              "│ 1        ┆ 2024-10-0 ┆ 2024-10-0 ┆ 1         ┆ … ┆ 1.0       ┆ 21.2      ┆ 2.5       ┆ 0.0       │\n",
              "│          ┆ 1         ┆ 1         ┆           ┆   ┆           ┆           ┆           ┆           │\n",
              "│          ┆ 00:12:10  ┆ 00:23:01  ┆           ┆   ┆           ┆           ┆           ┆           │\n",
              "│ 1        ┆ 2024-10-0 ┆ 2024-10-0 ┆ 1         ┆ … ┆ 1.0       ┆ 8.0       ┆ 2.5       ┆ 0.0       │\n",
              "│          ┆ 1         ┆ 1         ┆           ┆   ┆           ┆           ┆           ┆           │\n",
              "│          ┆ 00:30:22  ┆ 00:30:39  ┆           ┆   ┆           ┆           ┆           ┆           │\n",
              "│ …        ┆ …         ┆ …         ┆ …         ┆ … ┆ …         ┆ …         ┆ …         ┆ …         │\n",
              "│ 2        ┆ 2024-10-3 ┆ 2024-11-0 ┆ null      ┆ … ┆ 1.0       ┆ 25.36     ┆ null      ┆ null      │\n",
              "│          ┆ 1         ┆ 1         ┆           ┆   ┆           ┆           ┆           ┆           │\n",
              "│          ┆ 23:49:01  ┆ 00:04:31  ┆           ┆   ┆           ┆           ┆           ┆           │\n",
              "│ 2        ┆ 2024-10-3 ┆ 2024-10-3 ┆ null      ┆ … ┆ 1.0       ┆ 43.05     ┆ null      ┆ null      │\n",
              "│          ┆ 1         ┆ 1         ┆           ┆   ┆           ┆           ┆           ┆           │\n",
              "│          ┆ 23:35:15  ┆ 23:52:50  ┆           ┆   ┆           ┆           ┆           ┆           │\n",
              "│ 2        ┆ 2024-10-3 ┆ 2024-11-0 ┆ null      ┆ … ┆ 1.0       ┆ 53.62     ┆ null      ┆ null      │\n",
              "│          ┆ 1         ┆ 1         ┆           ┆   ┆           ┆           ┆           ┆           │\n",
              "│          ┆ 23:30:43  ┆ 00:08:12  ┆           ┆   ┆           ┆           ┆           ┆           │\n",
              "│ 2        ┆ 2024-10-3 ┆ 2024-10-3 ┆ null      ┆ … ┆ 1.0       ┆ 20.84     ┆ null      ┆ null      │\n",
              "│          ┆ 1         ┆ 1         ┆           ┆   ┆           ┆           ┆           ┆           │\n",
              "│          ┆ 23:00:00  ┆ 23:06:00  ┆           ┆   ┆           ┆           ┆           ┆           │\n",
              "│ 2        ┆ 2024-10-3 ┆ 2024-10-3 ┆ null      ┆ … ┆ 1.0       ┆ 29.96     ┆ null      ┆ null      │\n",
              "│          ┆ 1         ┆ 1         ┆           ┆   ┆           ┆           ┆           ┆           │\n",
              "│          ┆ 23:18:00  ┆ 23:51:00  ┆           ┆   ┆           ┆           ┆           ┆           │\n",
              "└──────────┴───────────┴───────────┴───────────┴───┴───────────┴───────────┴───────────┴───────────┘"
            ],
            "text/html": [
              "<div><style>\n",
              ".dataframe > thead > tr,\n",
              ".dataframe > tbody > tr {\n",
              "  text-align: right;\n",
              "  white-space: pre-wrap;\n",
              "}\n",
              "</style>\n",
              "<small>shape: (3_833_771, 19)</small><table border=\"1\" class=\"dataframe\"><thead><tr><th>VendorID</th><th>tpep_pickup_datetime</th><th>tpep_dropoff_datetime</th><th>passenger_count</th><th>trip_distance</th><th>RatecodeID</th><th>store_and_fwd_flag</th><th>PULocationID</th><th>DOLocationID</th><th>payment_type</th><th>fare_amount</th><th>extra</th><th>mta_tax</th><th>tip_amount</th><th>tolls_amount</th><th>improvement_surcharge</th><th>total_amount</th><th>congestion_surcharge</th><th>Airport_fee</th></tr><tr><td>i32</td><td>datetime[ns]</td><td>datetime[ns]</td><td>i64</td><td>f64</td><td>i64</td><td>str</td><td>i32</td><td>i32</td><td>i64</td><td>f64</td><td>f64</td><td>f64</td><td>f64</td><td>f64</td><td>f64</td><td>f64</td><td>f64</td><td>f64</td></tr></thead><tbody><tr><td>2</td><td>2024-10-01 00:30:44</td><td>2024-10-01 00:48:26</td><td>1</td><td>3.0</td><td>1</td><td>&quot;N&quot;</td><td>162</td><td>246</td><td>1</td><td>18.4</td><td>1.0</td><td>0.5</td><td>1.5</td><td>0.0</td><td>1.0</td><td>24.9</td><td>2.5</td><td>0.0</td></tr><tr><td>1</td><td>2024-10-01 00:12:20</td><td>2024-10-01 00:25:25</td><td>1</td><td>2.2</td><td>1</td><td>&quot;N&quot;</td><td>48</td><td>236</td><td>1</td><td>14.2</td><td>3.5</td><td>0.5</td><td>3.8</td><td>0.0</td><td>1.0</td><td>23.0</td><td>2.5</td><td>0.0</td></tr><tr><td>1</td><td>2024-10-01 00:04:46</td><td>2024-10-01 00:13:52</td><td>1</td><td>2.7</td><td>1</td><td>&quot;N&quot;</td><td>142</td><td>24</td><td>1</td><td>13.5</td><td>3.5</td><td>0.5</td><td>3.7</td><td>0.0</td><td>1.0</td><td>22.2</td><td>2.5</td><td>0.0</td></tr><tr><td>1</td><td>2024-10-01 00:12:10</td><td>2024-10-01 00:23:01</td><td>1</td><td>3.1</td><td>1</td><td>&quot;N&quot;</td><td>233</td><td>75</td><td>1</td><td>14.2</td><td>3.5</td><td>0.5</td><td>2.0</td><td>0.0</td><td>1.0</td><td>21.2</td><td>2.5</td><td>0.0</td></tr><tr><td>1</td><td>2024-10-01 00:30:22</td><td>2024-10-01 00:30:39</td><td>1</td><td>0.0</td><td>1</td><td>&quot;N&quot;</td><td>262</td><td>262</td><td>3</td><td>3.0</td><td>3.5</td><td>0.5</td><td>0.0</td><td>0.0</td><td>1.0</td><td>8.0</td><td>2.5</td><td>0.0</td></tr><tr><td>&hellip;</td><td>&hellip;</td><td>&hellip;</td><td>&hellip;</td><td>&hellip;</td><td>&hellip;</td><td>&hellip;</td><td>&hellip;</td><td>&hellip;</td><td>&hellip;</td><td>&hellip;</td><td>&hellip;</td><td>&hellip;</td><td>&hellip;</td><td>&hellip;</td><td>&hellip;</td><td>&hellip;</td><td>&hellip;</td><td>&hellip;</td></tr><tr><td>2</td><td>2024-10-31 23:49:01</td><td>2024-11-01 00:04:31</td><td>null</td><td>3.49</td><td>null</td><td>null</td><td>107</td><td>262</td><td>0</td><td>21.36</td><td>0.0</td><td>0.5</td><td>0.0</td><td>0.0</td><td>1.0</td><td>25.36</td><td>null</td><td>null</td></tr><tr><td>2</td><td>2024-10-31 23:35:15</td><td>2024-10-31 23:52:50</td><td>null</td><td>2.4</td><td>null</td><td>null</td><td>137</td><td>145</td><td>0</td><td>21.88</td><td>0.0</td><td>0.5</td><td>6.03</td><td>11.14</td><td>1.0</td><td>43.05</td><td>null</td><td>null</td></tr><tr><td>2</td><td>2024-10-31 23:30:43</td><td>2024-11-01 00:08:12</td><td>null</td><td>12.28</td><td>null</td><td>null</td><td>188</td><td>233</td><td>0</td><td>42.68</td><td>0.0</td><td>0.5</td><td>0.0</td><td>6.94</td><td>1.0</td><td>53.62</td><td>null</td><td>null</td></tr><tr><td>2</td><td>2024-10-31 23:00:00</td><td>2024-10-31 23:06:00</td><td>null</td><td>0.56</td><td>null</td><td>null</td><td>230</td><td>50</td><td>0</td><td>16.84</td><td>0.0</td><td>0.5</td><td>0.0</td><td>0.0</td><td>1.0</td><td>20.84</td><td>null</td><td>null</td></tr><tr><td>2</td><td>2024-10-31 23:18:00</td><td>2024-10-31 23:51:00</td><td>null</td><td>6.25</td><td>null</td><td>null</td><td>246</td><td>75</td><td>0</td><td>25.96</td><td>0.0</td><td>0.5</td><td>0.0</td><td>0.0</td><td>1.0</td><td>29.96</td><td>null</td><td>null</td></tr></tbody></table></div>"
            ]
          },
          "metadata": {},
          "execution_count": 20
        }
      ]
    },
    {
      "cell_type": "code",
      "source": [
        "nov_ytaxi = pl.read_parquet('/content/drive/MyDrive/DTW2/yellow_tripdata_2024-11.parquet')\n",
        "nov_ytaxi"
      ],
      "metadata": {
        "colab": {
          "base_uri": "https://localhost:8080/",
          "height": 458
        },
        "id": "wreuMJdbWJM-",
        "outputId": "a3cb47d4-ea81-4c1b-a58b-9fb17e49ccc5"
      },
      "id": "wreuMJdbWJM-",
      "execution_count": 21,
      "outputs": [
        {
          "output_type": "execute_result",
          "data": {
            "text/plain": [
              "shape: (3_646_369, 19)\n",
              "┌──────────┬───────────┬───────────┬───────────┬───┬───────────┬───────────┬───────────┬───────────┐\n",
              "│ VendorID ┆ tpep_pick ┆ tpep_drop ┆ passenger ┆ … ┆ improveme ┆ total_amo ┆ congestio ┆ Airport_f │\n",
              "│ ---      ┆ up_dateti ┆ off_datet ┆ _count    ┆   ┆ nt_surcha ┆ unt       ┆ n_surchar ┆ ee        │\n",
              "│ i32      ┆ me        ┆ ime       ┆ ---       ┆   ┆ rge       ┆ ---       ┆ ge        ┆ ---       │\n",
              "│          ┆ ---       ┆ ---       ┆ i64       ┆   ┆ ---       ┆ f64       ┆ ---       ┆ f64       │\n",
              "│          ┆ datetime[ ┆ datetime[ ┆           ┆   ┆ f64       ┆           ┆ f64       ┆           │\n",
              "│          ┆ μs]       ┆ μs]       ┆           ┆   ┆           ┆           ┆           ┆           │\n",
              "╞══════════╪═══════════╪═══════════╪═══════════╪═══╪═══════════╪═══════════╪═══════════╪═══════════╡\n",
              "│ 2        ┆ 2024-11-0 ┆ 2024-11-0 ┆ 1         ┆ … ┆ -1.0      ┆ -17.8     ┆ -2.5      ┆ 0.0       │\n",
              "│          ┆ 1         ┆ 1         ┆           ┆   ┆           ┆           ┆           ┆           │\n",
              "│          ┆ 00:46:24  ┆ 00:57:17  ┆           ┆   ┆           ┆           ┆           ┆           │\n",
              "│ 2        ┆ 2024-11-0 ┆ 2024-11-0 ┆ 1         ┆ … ┆ 1.0       ┆ 17.8      ┆ 2.5       ┆ 0.0       │\n",
              "│          ┆ 1         ┆ 1         ┆           ┆   ┆           ┆           ┆           ┆           │\n",
              "│          ┆ 00:46:24  ┆ 00:57:17  ┆           ┆   ┆           ┆           ┆           ┆           │\n",
              "│ 1        ┆ 2024-11-0 ┆ 2024-11-0 ┆ 1         ┆ … ┆ 1.0       ┆ 275.0     ┆ 0.0       ┆ 0.0       │\n",
              "│          ┆ 1         ┆ 1         ┆           ┆   ┆           ┆           ┆           ┆           │\n",
              "│          ┆ 00:37:36  ┆ 01:28:36  ┆           ┆   ┆           ┆           ┆           ┆           │\n",
              "│ 2        ┆ 2024-11-0 ┆ 2024-11-0 ┆ 2         ┆ … ┆ 1.0       ┆ 16.0      ┆ 2.5       ┆ 0.0       │\n",
              "│          ┆ 1         ┆ 1         ┆           ┆   ┆           ┆           ┆           ┆           │\n",
              "│          ┆ 00:12:55  ┆ 00:22:17  ┆           ┆   ┆           ┆           ┆           ┆           │\n",
              "│ 2        ┆ 2024-11-0 ┆ 2024-11-0 ┆ 1         ┆ … ┆ 1.0       ┆ 12.5      ┆ 2.5       ┆ 0.0       │\n",
              "│          ┆ 1         ┆ 1         ┆           ┆   ┆           ┆           ┆           ┆           │\n",
              "│          ┆ 00:54:45  ┆ 00:59:47  ┆           ┆   ┆           ┆           ┆           ┆           │\n",
              "│ …        ┆ …         ┆ …         ┆ …         ┆ … ┆ …         ┆ …         ┆ …         ┆ …         │\n",
              "│ 2        ┆ 2024-11-3 ┆ 2024-11-3 ┆ null      ┆ … ┆ 1.0       ┆ 5.0       ┆ null      ┆ null      │\n",
              "│          ┆ 0         ┆ 0         ┆           ┆   ┆           ┆           ┆           ┆           │\n",
              "│          ┆ 23:11:15  ┆ 23:19:33  ┆           ┆   ┆           ┆           ┆           ┆           │\n",
              "│ 1        ┆ 2024-11-3 ┆ 2024-12-0 ┆ null      ┆ … ┆ 1.0       ┆ 89.03     ┆ null      ┆ null      │\n",
              "│          ┆ 0         ┆ 1         ┆           ┆   ┆           ┆           ┆           ┆           │\n",
              "│          ┆ 23:49:30  ┆ 00:27:39  ┆           ┆   ┆           ┆           ┆           ┆           │\n",
              "│ 2        ┆ 2024-11-3 ┆ 2024-12-0 ┆ null      ┆ … ┆ 1.0       ┆ 22.71     ┆ null      ┆ null      │\n",
              "│          ┆ 0         ┆ 1         ┆           ┆   ┆           ┆           ┆           ┆           │\n",
              "│          ┆ 23:31:46  ┆ 00:04:32  ┆           ┆   ┆           ┆           ┆           ┆           │\n",
              "│ 2        ┆ 2024-11-3 ┆ 2024-11-3 ┆ null      ┆ … ┆ 1.0       ┆ 14.76     ┆ null      ┆ null      │\n",
              "│          ┆ 0         ┆ 0         ┆           ┆   ┆           ┆           ┆           ┆           │\n",
              "│          ┆ 23:41:21  ┆ 23:53:20  ┆           ┆   ┆           ┆           ┆           ┆           │\n",
              "│ 2        ┆ 2024-11-3 ┆ 2024-11-3 ┆ null      ┆ … ┆ 1.0       ┆ 1.0       ┆ null      ┆ null      │\n",
              "│          ┆ 0         ┆ 0         ┆           ┆   ┆           ┆           ┆           ┆           │\n",
              "│          ┆ 23:21:52  ┆ 23:31:11  ┆           ┆   ┆           ┆           ┆           ┆           │\n",
              "└──────────┴───────────┴───────────┴───────────┴───┴───────────┴───────────┴───────────┴───────────┘"
            ],
            "text/html": [
              "<div><style>\n",
              ".dataframe > thead > tr,\n",
              ".dataframe > tbody > tr {\n",
              "  text-align: right;\n",
              "  white-space: pre-wrap;\n",
              "}\n",
              "</style>\n",
              "<small>shape: (3_646_369, 19)</small><table border=\"1\" class=\"dataframe\"><thead><tr><th>VendorID</th><th>tpep_pickup_datetime</th><th>tpep_dropoff_datetime</th><th>passenger_count</th><th>trip_distance</th><th>RatecodeID</th><th>store_and_fwd_flag</th><th>PULocationID</th><th>DOLocationID</th><th>payment_type</th><th>fare_amount</th><th>extra</th><th>mta_tax</th><th>tip_amount</th><th>tolls_amount</th><th>improvement_surcharge</th><th>total_amount</th><th>congestion_surcharge</th><th>Airport_fee</th></tr><tr><td>i32</td><td>datetime[μs]</td><td>datetime[μs]</td><td>i64</td><td>f64</td><td>i64</td><td>str</td><td>i32</td><td>i32</td><td>i64</td><td>f64</td><td>f64</td><td>f64</td><td>f64</td><td>f64</td><td>f64</td><td>f64</td><td>f64</td><td>f64</td></tr></thead><tbody><tr><td>2</td><td>2024-11-01 00:46:24</td><td>2024-11-01 00:57:17</td><td>1</td><td>1.93</td><td>1</td><td>&quot;N&quot;</td><td>239</td><td>262</td><td>2</td><td>-12.8</td><td>-1.0</td><td>-0.5</td><td>0.0</td><td>0.0</td><td>-1.0</td><td>-17.8</td><td>-2.5</td><td>0.0</td></tr><tr><td>2</td><td>2024-11-01 00:46:24</td><td>2024-11-01 00:57:17</td><td>1</td><td>1.93</td><td>1</td><td>&quot;N&quot;</td><td>239</td><td>263</td><td>2</td><td>12.8</td><td>1.0</td><td>0.5</td><td>0.0</td><td>0.0</td><td>1.0</td><td>17.8</td><td>2.5</td><td>0.0</td></tr><tr><td>1</td><td>2024-11-01 00:37:36</td><td>2024-11-01 01:28:36</td><td>1</td><td>34.3</td><td>5</td><td>&quot;N&quot;</td><td>219</td><td>265</td><td>1</td><td>259.0</td><td>0.0</td><td>0.0</td><td>15.0</td><td>0.0</td><td>1.0</td><td>275.0</td><td>0.0</td><td>0.0</td></tr><tr><td>2</td><td>2024-11-01 00:12:55</td><td>2024-11-01 00:22:17</td><td>2</td><td>0.93</td><td>1</td><td>&quot;N&quot;</td><td>186</td><td>107</td><td>1</td><td>10.0</td><td>1.0</td><td>0.5</td><td>1.0</td><td>0.0</td><td>1.0</td><td>16.0</td><td>2.5</td><td>0.0</td></tr><tr><td>2</td><td>2024-11-01 00:54:45</td><td>2024-11-01 00:59:47</td><td>1</td><td>0.38</td><td>1</td><td>&quot;N&quot;</td><td>79</td><td>79</td><td>1</td><td>6.5</td><td>1.0</td><td>0.5</td><td>1.0</td><td>0.0</td><td>1.0</td><td>12.5</td><td>2.5</td><td>0.0</td></tr><tr><td>&hellip;</td><td>&hellip;</td><td>&hellip;</td><td>&hellip;</td><td>&hellip;</td><td>&hellip;</td><td>&hellip;</td><td>&hellip;</td><td>&hellip;</td><td>&hellip;</td><td>&hellip;</td><td>&hellip;</td><td>&hellip;</td><td>&hellip;</td><td>&hellip;</td><td>&hellip;</td><td>&hellip;</td><td>&hellip;</td><td>&hellip;</td></tr><tr><td>2</td><td>2024-11-30 23:11:15</td><td>2024-11-30 23:19:33</td><td>null</td><td>1.09</td><td>null</td><td>null</td><td>162</td><td>142</td><td>0</td><td>1.0</td><td>0.0</td><td>0.5</td><td>0.0</td><td>0.0</td><td>1.0</td><td>5.0</td><td>null</td><td>null</td></tr><tr><td>1</td><td>2024-11-30 23:49:30</td><td>2024-12-01 00:27:39</td><td>null</td><td>20.1</td><td>null</td><td>null</td><td>132</td><td>238</td><td>0</td><td>70.0</td><td>0.0</td><td>0.5</td><td>8.09</td><td>6.94</td><td>1.0</td><td>89.03</td><td>null</td><td>null</td></tr><tr><td>2</td><td>2024-11-30 23:31:46</td><td>2024-12-01 00:04:32</td><td>null</td><td>1.38</td><td>null</td><td>null</td><td>100</td><td>230</td><td>0</td><td>18.71</td><td>0.0</td><td>0.5</td><td>0.0</td><td>0.0</td><td>1.0</td><td>22.71</td><td>null</td><td>null</td></tr><tr><td>2</td><td>2024-11-30 23:41:21</td><td>2024-11-30 23:53:20</td><td>null</td><td>2.63</td><td>null</td><td>null</td><td>42</td><td>75</td><td>0</td><td>13.26</td><td>0.0</td><td>0.5</td><td>0.0</td><td>0.0</td><td>1.0</td><td>14.76</td><td>null</td><td>null</td></tr><tr><td>2</td><td>2024-11-30 23:21:52</td><td>2024-11-30 23:31:11</td><td>null</td><td>1.16</td><td>null</td><td>null</td><td>116</td><td>42</td><td>0</td><td>-0.5</td><td>0.0</td><td>0.5</td><td>0.0</td><td>0.0</td><td>1.0</td><td>1.0</td><td>null</td><td>null</td></tr></tbody></table></div>"
            ]
          },
          "metadata": {},
          "execution_count": 21
        }
      ]
    },
    {
      "cell_type": "code",
      "source": [
        "dec_ytaxi = pl.read_parquet('/content/drive/MyDrive/DTW2/yellow_tripdata_2024-12.parquet')\n",
        "dec_ytaxi"
      ],
      "metadata": {
        "colab": {
          "base_uri": "https://localhost:8080/",
          "height": 458
        },
        "id": "GldERTT4WTtI",
        "outputId": "af33a2de-e571-46ca-ded6-4862efc5fab2"
      },
      "id": "GldERTT4WTtI",
      "execution_count": 22,
      "outputs": [
        {
          "output_type": "execute_result",
          "data": {
            "text/plain": [
              "shape: (3_668_371, 19)\n",
              "┌──────────┬───────────┬───────────┬───────────┬───┬───────────┬───────────┬───────────┬───────────┐\n",
              "│ VendorID ┆ tpep_pick ┆ tpep_drop ┆ passenger ┆ … ┆ improveme ┆ total_amo ┆ congestio ┆ Airport_f │\n",
              "│ ---      ┆ up_dateti ┆ off_datet ┆ _count    ┆   ┆ nt_surcha ┆ unt       ┆ n_surchar ┆ ee        │\n",
              "│ i32      ┆ me        ┆ ime       ┆ ---       ┆   ┆ rge       ┆ ---       ┆ ge        ┆ ---       │\n",
              "│          ┆ ---       ┆ ---       ┆ i64       ┆   ┆ ---       ┆ f64       ┆ ---       ┆ f64       │\n",
              "│          ┆ datetime[ ┆ datetime[ ┆           ┆   ┆ f64       ┆           ┆ f64       ┆           │\n",
              "│          ┆ μs]       ┆ μs]       ┆           ┆   ┆           ┆           ┆           ┆           │\n",
              "╞══════════╪═══════════╪═══════════╪═══════════╪═══╪═══════════╪═══════════╪═══════════╪═══════════╡\n",
              "│ 2        ┆ 2024-12-0 ┆ 2024-12-0 ┆ 1         ┆ … ┆ 1.0       ┆ 51.97     ┆ 0.0       ┆ 1.75      │\n",
              "│          ┆ 1         ┆ 1         ┆           ┆   ┆           ┆           ┆           ┆           │\n",
              "│          ┆ 00:12:27  ┆ 00:31:12  ┆           ┆   ┆           ┆           ┆           ┆           │\n",
              "│ 2        ┆ 2024-11-3 ┆ 2024-12-0 ┆ 1         ┆ … ┆ 1.0       ┆ 50.76     ┆ 2.5       ┆ 0.0       │\n",
              "│          ┆ 0         ┆ 1         ┆           ┆   ┆           ┆           ┆           ┆           │\n",
              "│          ┆ 23:56:04  ┆ 00:28:15  ┆           ┆   ┆           ┆           ┆           ┆           │\n",
              "│ 2        ┆ 2024-12-0 ┆ 2024-12-0 ┆ 4         ┆ … ┆ 1.0       ┆ 82.69     ┆ 2.5       ┆ 1.75      │\n",
              "│          ┆ 1         ┆ 1         ┆           ┆   ┆           ┆           ┆           ┆           │\n",
              "│          ┆ 00:50:35  ┆ 01:24:46  ┆           ┆   ┆           ┆           ┆           ┆           │\n",
              "│ 2        ┆ 2024-12-0 ┆ 2024-12-0 ┆ 3         ┆ … ┆ 1.0       ┆ 24.72     ┆ 2.5       ┆ 0.0       │\n",
              "│          ┆ 1         ┆ 1         ┆           ┆   ┆           ┆           ┆           ┆           │\n",
              "│          ┆ 00:18:16  ┆ 00:33:16  ┆           ┆   ┆           ┆           ┆           ┆           │\n",
              "│ 2        ┆ 2024-12-0 ┆ 2024-12-0 ┆ 1         ┆ … ┆ 1.0       ┆ 36.8      ┆ 2.5       ┆ 0.0       │\n",
              "│          ┆ 1         ┆ 1         ┆           ┆   ┆           ┆           ┆           ┆           │\n",
              "│          ┆ 00:56:13  ┆ 01:18:25  ┆           ┆   ┆           ┆           ┆           ┆           │\n",
              "│ …        ┆ …         ┆ …         ┆ …         ┆ … ┆ …         ┆ …         ┆ …         ┆ …         │\n",
              "│ 2        ┆ 2024-12-3 ┆ 2024-12-3 ┆ null      ┆ … ┆ 1.0       ┆ -2.63     ┆ null      ┆ null      │\n",
              "│          ┆ 1         ┆ 1         ┆           ┆   ┆           ┆           ┆           ┆           │\n",
              "│          ┆ 23:32:00  ┆ 23:56:00  ┆           ┆   ┆           ┆           ┆           ┆           │\n",
              "│ 2        ┆ 2024-12-3 ┆ 2024-12-3 ┆ null      ┆ … ┆ 1.0       ┆ -0.18     ┆ null      ┆ null      │\n",
              "│          ┆ 1         ┆ 1         ┆           ┆   ┆           ┆           ┆           ┆           │\n",
              "│          ┆ 23:05:00  ┆ 23:18:00  ┆           ┆   ┆           ┆           ┆           ┆           │\n",
              "│ 2        ┆ 2024-12-3 ┆ 2024-12-3 ┆ null      ┆ … ┆ 1.0       ┆ 11.15     ┆ null      ┆ null      │\n",
              "│          ┆ 1         ┆ 1         ┆           ┆   ┆           ┆           ┆           ┆           │\n",
              "│          ┆ 23:03:16  ┆ 23:28:35  ┆           ┆   ┆           ┆           ┆           ┆           │\n",
              "│ 1        ┆ 2024-12-3 ┆ 2024-12-3 ┆ null      ┆ … ┆ 1.0       ┆ 28.57     ┆ null      ┆ null      │\n",
              "│          ┆ 1         ┆ 1         ┆           ┆   ┆           ┆           ┆           ┆           │\n",
              "│          ┆ 23:15:33  ┆ 23:36:29  ┆           ┆   ┆           ┆           ┆           ┆           │\n",
              "│ 2        ┆ 2024-12-3 ┆ 2024-12-3 ┆ null      ┆ … ┆ 1.0       ┆ 6.17      ┆ null      ┆ null      │\n",
              "│          ┆ 1         ┆ 1         ┆           ┆   ┆           ┆           ┆           ┆           │\n",
              "│          ┆ 23:04:36  ┆ 23:33:34  ┆           ┆   ┆           ┆           ┆           ┆           │\n",
              "└──────────┴───────────┴───────────┴───────────┴───┴───────────┴───────────┴───────────┴───────────┘"
            ],
            "text/html": [
              "<div><style>\n",
              ".dataframe > thead > tr,\n",
              ".dataframe > tbody > tr {\n",
              "  text-align: right;\n",
              "  white-space: pre-wrap;\n",
              "}\n",
              "</style>\n",
              "<small>shape: (3_668_371, 19)</small><table border=\"1\" class=\"dataframe\"><thead><tr><th>VendorID</th><th>tpep_pickup_datetime</th><th>tpep_dropoff_datetime</th><th>passenger_count</th><th>trip_distance</th><th>RatecodeID</th><th>store_and_fwd_flag</th><th>PULocationID</th><th>DOLocationID</th><th>payment_type</th><th>fare_amount</th><th>extra</th><th>mta_tax</th><th>tip_amount</th><th>tolls_amount</th><th>improvement_surcharge</th><th>total_amount</th><th>congestion_surcharge</th><th>Airport_fee</th></tr><tr><td>i32</td><td>datetime[μs]</td><td>datetime[μs]</td><td>i64</td><td>f64</td><td>i64</td><td>str</td><td>i32</td><td>i32</td><td>i64</td><td>f64</td><td>f64</td><td>f64</td><td>f64</td><td>f64</td><td>f64</td><td>f64</td><td>f64</td><td>f64</td></tr></thead><tbody><tr><td>2</td><td>2024-12-01 00:12:27</td><td>2024-12-01 00:31:12</td><td>1</td><td>9.76</td><td>1</td><td>&quot;N&quot;</td><td>138</td><td>33</td><td>1</td><td>38.0</td><td>6.0</td><td>0.5</td><td>4.72</td><td>0.0</td><td>1.0</td><td>51.97</td><td>0.0</td><td>1.75</td></tr><tr><td>2</td><td>2024-11-30 23:56:04</td><td>2024-12-01 00:28:15</td><td>1</td><td>7.62</td><td>1</td><td>&quot;N&quot;</td><td>158</td><td>42</td><td>1</td><td>37.3</td><td>1.0</td><td>0.5</td><td>8.46</td><td>0.0</td><td>1.0</td><td>50.76</td><td>2.5</td><td>0.0</td></tr><tr><td>2</td><td>2024-12-01 00:50:35</td><td>2024-12-01 01:24:46</td><td>4</td><td>20.07</td><td>2</td><td>&quot;N&quot;</td><td>132</td><td>236</td><td>2</td><td>70.0</td><td>0.0</td><td>0.5</td><td>0.0</td><td>6.94</td><td>1.0</td><td>82.69</td><td>2.5</td><td>1.75</td></tr><tr><td>2</td><td>2024-12-01 00:18:16</td><td>2024-12-01 00:33:16</td><td>3</td><td>2.34</td><td>1</td><td>&quot;N&quot;</td><td>142</td><td>186</td><td>1</td><td>15.6</td><td>1.0</td><td>0.5</td><td>4.12</td><td>0.0</td><td>1.0</td><td>24.72</td><td>2.5</td><td>0.0</td></tr><tr><td>2</td><td>2024-12-01 00:56:13</td><td>2024-12-01 01:18:25</td><td>1</td><td>5.05</td><td>1</td><td>&quot;N&quot;</td><td>107</td><td>80</td><td>1</td><td>26.8</td><td>1.0</td><td>0.5</td><td>5.0</td><td>0.0</td><td>1.0</td><td>36.8</td><td>2.5</td><td>0.0</td></tr><tr><td>&hellip;</td><td>&hellip;</td><td>&hellip;</td><td>&hellip;</td><td>&hellip;</td><td>&hellip;</td><td>&hellip;</td><td>&hellip;</td><td>&hellip;</td><td>&hellip;</td><td>&hellip;</td><td>&hellip;</td><td>&hellip;</td><td>&hellip;</td><td>&hellip;</td><td>&hellip;</td><td>&hellip;</td><td>&hellip;</td><td>&hellip;</td></tr><tr><td>2</td><td>2024-12-31 23:32:00</td><td>2024-12-31 23:56:00</td><td>null</td><td>10.71</td><td>null</td><td>null</td><td>16</td><td>7</td><td>0</td><td>-4.13</td><td>0.0</td><td>0.5</td><td>0.0</td><td>0.0</td><td>1.0</td><td>-2.63</td><td>null</td><td>null</td></tr><tr><td>2</td><td>2024-12-31 23:05:00</td><td>2024-12-31 23:18:00</td><td>null</td><td>4.56</td><td>null</td><td>null</td><td>252</td><td>16</td><td>0</td><td>-1.68</td><td>0.0</td><td>0.5</td><td>0.0</td><td>0.0</td><td>1.0</td><td>-0.18</td><td>null</td><td>null</td></tr><tr><td>2</td><td>2024-12-31 23:03:16</td><td>2024-12-31 23:28:35</td><td>null</td><td>3.94</td><td>null</td><td>null</td><td>181</td><td>255</td><td>0</td><td>4.46</td><td>0.0</td><td>0.5</td><td>5.19</td><td>0.0</td><td>1.0</td><td>11.15</td><td>null</td><td>null</td></tr><tr><td>1</td><td>2024-12-31 23:15:33</td><td>2024-12-31 23:36:29</td><td>null</td><td>4.2</td><td>null</td><td>null</td><td>165</td><td>61</td><td>0</td><td>27.07</td><td>0.0</td><td>0.5</td><td>0.0</td><td>0.0</td><td>1.0</td><td>28.57</td><td>null</td><td>null</td></tr><tr><td>2</td><td>2024-12-31 23:04:36</td><td>2024-12-31 23:33:34</td><td>null</td><td>5.76</td><td>null</td><td>null</td><td>225</td><td>114</td><td>0</td><td>2.17</td><td>0.0</td><td>0.5</td><td>0.0</td><td>0.0</td><td>1.0</td><td>6.17</td><td>null</td><td>null</td></tr></tbody></table></div>"
            ]
          },
          "metadata": {},
          "execution_count": 22
        }
      ]
    },
    {
      "cell_type": "code",
      "source": [
        "zone_location = pd.read_csv('/content/drive/MyDrive/DTW2/taxi_zone_lookup.csv')\n",
        "zone_location"
      ],
      "metadata": {
        "colab": {
          "base_uri": "https://localhost:8080/",
          "height": 419
        },
        "id": "pR3VoRxB8h7z",
        "outputId": "4d9c0739-1ffa-4f75-e50f-7ee40ca493b6"
      },
      "id": "pR3VoRxB8h7z",
      "execution_count": 31,
      "outputs": [
        {
          "output_type": "execute_result",
          "data": {
            "text/plain": [
              "     LocationID        Borough                     Zone service_zone\n",
              "0             1            EWR           Newark Airport          EWR\n",
              "1             2         Queens              Jamaica Bay    Boro Zone\n",
              "2             3          Bronx  Allerton/Pelham Gardens    Boro Zone\n",
              "3             4      Manhattan            Alphabet City  Yellow Zone\n",
              "4             5  Staten Island            Arden Heights    Boro Zone\n",
              "..          ...            ...                      ...          ...\n",
              "260         261      Manhattan       World Trade Center  Yellow Zone\n",
              "261         262      Manhattan           Yorkville East  Yellow Zone\n",
              "262         263      Manhattan           Yorkville West  Yellow Zone\n",
              "263         264        Unknown                      NaN          NaN\n",
              "264         265            NaN           Outside of NYC          NaN\n",
              "\n",
              "[265 rows x 4 columns]"
            ],
            "text/html": [
              "\n",
              "  <div id=\"df-bf736577-bb72-4f2e-a715-88ec8cfba67c\" class=\"colab-df-container\">\n",
              "    <div>\n",
              "<style scoped>\n",
              "    .dataframe tbody tr th:only-of-type {\n",
              "        vertical-align: middle;\n",
              "    }\n",
              "\n",
              "    .dataframe tbody tr th {\n",
              "        vertical-align: top;\n",
              "    }\n",
              "\n",
              "    .dataframe thead th {\n",
              "        text-align: right;\n",
              "    }\n",
              "</style>\n",
              "<table border=\"1\" class=\"dataframe\">\n",
              "  <thead>\n",
              "    <tr style=\"text-align: right;\">\n",
              "      <th></th>\n",
              "      <th>LocationID</th>\n",
              "      <th>Borough</th>\n",
              "      <th>Zone</th>\n",
              "      <th>service_zone</th>\n",
              "    </tr>\n",
              "  </thead>\n",
              "  <tbody>\n",
              "    <tr>\n",
              "      <th>0</th>\n",
              "      <td>1</td>\n",
              "      <td>EWR</td>\n",
              "      <td>Newark Airport</td>\n",
              "      <td>EWR</td>\n",
              "    </tr>\n",
              "    <tr>\n",
              "      <th>1</th>\n",
              "      <td>2</td>\n",
              "      <td>Queens</td>\n",
              "      <td>Jamaica Bay</td>\n",
              "      <td>Boro Zone</td>\n",
              "    </tr>\n",
              "    <tr>\n",
              "      <th>2</th>\n",
              "      <td>3</td>\n",
              "      <td>Bronx</td>\n",
              "      <td>Allerton/Pelham Gardens</td>\n",
              "      <td>Boro Zone</td>\n",
              "    </tr>\n",
              "    <tr>\n",
              "      <th>3</th>\n",
              "      <td>4</td>\n",
              "      <td>Manhattan</td>\n",
              "      <td>Alphabet City</td>\n",
              "      <td>Yellow Zone</td>\n",
              "    </tr>\n",
              "    <tr>\n",
              "      <th>4</th>\n",
              "      <td>5</td>\n",
              "      <td>Staten Island</td>\n",
              "      <td>Arden Heights</td>\n",
              "      <td>Boro Zone</td>\n",
              "    </tr>\n",
              "    <tr>\n",
              "      <th>...</th>\n",
              "      <td>...</td>\n",
              "      <td>...</td>\n",
              "      <td>...</td>\n",
              "      <td>...</td>\n",
              "    </tr>\n",
              "    <tr>\n",
              "      <th>260</th>\n",
              "      <td>261</td>\n",
              "      <td>Manhattan</td>\n",
              "      <td>World Trade Center</td>\n",
              "      <td>Yellow Zone</td>\n",
              "    </tr>\n",
              "    <tr>\n",
              "      <th>261</th>\n",
              "      <td>262</td>\n",
              "      <td>Manhattan</td>\n",
              "      <td>Yorkville East</td>\n",
              "      <td>Yellow Zone</td>\n",
              "    </tr>\n",
              "    <tr>\n",
              "      <th>262</th>\n",
              "      <td>263</td>\n",
              "      <td>Manhattan</td>\n",
              "      <td>Yorkville West</td>\n",
              "      <td>Yellow Zone</td>\n",
              "    </tr>\n",
              "    <tr>\n",
              "      <th>263</th>\n",
              "      <td>264</td>\n",
              "      <td>Unknown</td>\n",
              "      <td>NaN</td>\n",
              "      <td>NaN</td>\n",
              "    </tr>\n",
              "    <tr>\n",
              "      <th>264</th>\n",
              "      <td>265</td>\n",
              "      <td>NaN</td>\n",
              "      <td>Outside of NYC</td>\n",
              "      <td>NaN</td>\n",
              "    </tr>\n",
              "  </tbody>\n",
              "</table>\n",
              "<p>265 rows × 4 columns</p>\n",
              "</div>\n",
              "    <div class=\"colab-df-buttons\">\n",
              "\n",
              "  <div class=\"colab-df-container\">\n",
              "    <button class=\"colab-df-convert\" onclick=\"convertToInteractive('df-bf736577-bb72-4f2e-a715-88ec8cfba67c')\"\n",
              "            title=\"Convert this dataframe to an interactive table.\"\n",
              "            style=\"display:none;\">\n",
              "\n",
              "  <svg xmlns=\"http://www.w3.org/2000/svg\" height=\"24px\" viewBox=\"0 -960 960 960\">\n",
              "    <path d=\"M120-120v-720h720v720H120Zm60-500h600v-160H180v160Zm220 220h160v-160H400v160Zm0 220h160v-160H400v160ZM180-400h160v-160H180v160Zm440 0h160v-160H620v160ZM180-180h160v-160H180v160Zm440 0h160v-160H620v160Z\"/>\n",
              "  </svg>\n",
              "    </button>\n",
              "\n",
              "  <style>\n",
              "    .colab-df-container {\n",
              "      display:flex;\n",
              "      gap: 12px;\n",
              "    }\n",
              "\n",
              "    .colab-df-convert {\n",
              "      background-color: #E8F0FE;\n",
              "      border: none;\n",
              "      border-radius: 50%;\n",
              "      cursor: pointer;\n",
              "      display: none;\n",
              "      fill: #1967D2;\n",
              "      height: 32px;\n",
              "      padding: 0 0 0 0;\n",
              "      width: 32px;\n",
              "    }\n",
              "\n",
              "    .colab-df-convert:hover {\n",
              "      background-color: #E2EBFA;\n",
              "      box-shadow: 0px 1px 2px rgba(60, 64, 67, 0.3), 0px 1px 3px 1px rgba(60, 64, 67, 0.15);\n",
              "      fill: #174EA6;\n",
              "    }\n",
              "\n",
              "    .colab-df-buttons div {\n",
              "      margin-bottom: 4px;\n",
              "    }\n",
              "\n",
              "    [theme=dark] .colab-df-convert {\n",
              "      background-color: #3B4455;\n",
              "      fill: #D2E3FC;\n",
              "    }\n",
              "\n",
              "    [theme=dark] .colab-df-convert:hover {\n",
              "      background-color: #434B5C;\n",
              "      box-shadow: 0px 1px 3px 1px rgba(0, 0, 0, 0.15);\n",
              "      filter: drop-shadow(0px 1px 2px rgba(0, 0, 0, 0.3));\n",
              "      fill: #FFFFFF;\n",
              "    }\n",
              "  </style>\n",
              "\n",
              "    <script>\n",
              "      const buttonEl =\n",
              "        document.querySelector('#df-bf736577-bb72-4f2e-a715-88ec8cfba67c button.colab-df-convert');\n",
              "      buttonEl.style.display =\n",
              "        google.colab.kernel.accessAllowed ? 'block' : 'none';\n",
              "\n",
              "      async function convertToInteractive(key) {\n",
              "        const element = document.querySelector('#df-bf736577-bb72-4f2e-a715-88ec8cfba67c');\n",
              "        const dataTable =\n",
              "          await google.colab.kernel.invokeFunction('convertToInteractive',\n",
              "                                                    [key], {});\n",
              "        if (!dataTable) return;\n",
              "\n",
              "        const docLinkHtml = 'Like what you see? Visit the ' +\n",
              "          '<a target=\"_blank\" href=https://colab.research.google.com/notebooks/data_table.ipynb>data table notebook</a>'\n",
              "          + ' to learn more about interactive tables.';\n",
              "        element.innerHTML = '';\n",
              "        dataTable['output_type'] = 'display_data';\n",
              "        await google.colab.output.renderOutput(dataTable, element);\n",
              "        const docLink = document.createElement('div');\n",
              "        docLink.innerHTML = docLinkHtml;\n",
              "        element.appendChild(docLink);\n",
              "      }\n",
              "    </script>\n",
              "  </div>\n",
              "\n",
              "\n",
              "    <div id=\"df-3abdc42e-73df-42e3-b3ab-e061833306f4\">\n",
              "      <button class=\"colab-df-quickchart\" onclick=\"quickchart('df-3abdc42e-73df-42e3-b3ab-e061833306f4')\"\n",
              "                title=\"Suggest charts\"\n",
              "                style=\"display:none;\">\n",
              "\n",
              "<svg xmlns=\"http://www.w3.org/2000/svg\" height=\"24px\"viewBox=\"0 0 24 24\"\n",
              "     width=\"24px\">\n",
              "    <g>\n",
              "        <path d=\"M19 3H5c-1.1 0-2 .9-2 2v14c0 1.1.9 2 2 2h14c1.1 0 2-.9 2-2V5c0-1.1-.9-2-2-2zM9 17H7v-7h2v7zm4 0h-2V7h2v10zm4 0h-2v-4h2v4z\"/>\n",
              "    </g>\n",
              "</svg>\n",
              "      </button>\n",
              "\n",
              "<style>\n",
              "  .colab-df-quickchart {\n",
              "      --bg-color: #E8F0FE;\n",
              "      --fill-color: #1967D2;\n",
              "      --hover-bg-color: #E2EBFA;\n",
              "      --hover-fill-color: #174EA6;\n",
              "      --disabled-fill-color: #AAA;\n",
              "      --disabled-bg-color: #DDD;\n",
              "  }\n",
              "\n",
              "  [theme=dark] .colab-df-quickchart {\n",
              "      --bg-color: #3B4455;\n",
              "      --fill-color: #D2E3FC;\n",
              "      --hover-bg-color: #434B5C;\n",
              "      --hover-fill-color: #FFFFFF;\n",
              "      --disabled-bg-color: #3B4455;\n",
              "      --disabled-fill-color: #666;\n",
              "  }\n",
              "\n",
              "  .colab-df-quickchart {\n",
              "    background-color: var(--bg-color);\n",
              "    border: none;\n",
              "    border-radius: 50%;\n",
              "    cursor: pointer;\n",
              "    display: none;\n",
              "    fill: var(--fill-color);\n",
              "    height: 32px;\n",
              "    padding: 0;\n",
              "    width: 32px;\n",
              "  }\n",
              "\n",
              "  .colab-df-quickchart:hover {\n",
              "    background-color: var(--hover-bg-color);\n",
              "    box-shadow: 0 1px 2px rgba(60, 64, 67, 0.3), 0 1px 3px 1px rgba(60, 64, 67, 0.15);\n",
              "    fill: var(--button-hover-fill-color);\n",
              "  }\n",
              "\n",
              "  .colab-df-quickchart-complete:disabled,\n",
              "  .colab-df-quickchart-complete:disabled:hover {\n",
              "    background-color: var(--disabled-bg-color);\n",
              "    fill: var(--disabled-fill-color);\n",
              "    box-shadow: none;\n",
              "  }\n",
              "\n",
              "  .colab-df-spinner {\n",
              "    border: 2px solid var(--fill-color);\n",
              "    border-color: transparent;\n",
              "    border-bottom-color: var(--fill-color);\n",
              "    animation:\n",
              "      spin 1s steps(1) infinite;\n",
              "  }\n",
              "\n",
              "  @keyframes spin {\n",
              "    0% {\n",
              "      border-color: transparent;\n",
              "      border-bottom-color: var(--fill-color);\n",
              "      border-left-color: var(--fill-color);\n",
              "    }\n",
              "    20% {\n",
              "      border-color: transparent;\n",
              "      border-left-color: var(--fill-color);\n",
              "      border-top-color: var(--fill-color);\n",
              "    }\n",
              "    30% {\n",
              "      border-color: transparent;\n",
              "      border-left-color: var(--fill-color);\n",
              "      border-top-color: var(--fill-color);\n",
              "      border-right-color: var(--fill-color);\n",
              "    }\n",
              "    40% {\n",
              "      border-color: transparent;\n",
              "      border-right-color: var(--fill-color);\n",
              "      border-top-color: var(--fill-color);\n",
              "    }\n",
              "    60% {\n",
              "      border-color: transparent;\n",
              "      border-right-color: var(--fill-color);\n",
              "    }\n",
              "    80% {\n",
              "      border-color: transparent;\n",
              "      border-right-color: var(--fill-color);\n",
              "      border-bottom-color: var(--fill-color);\n",
              "    }\n",
              "    90% {\n",
              "      border-color: transparent;\n",
              "      border-bottom-color: var(--fill-color);\n",
              "    }\n",
              "  }\n",
              "</style>\n",
              "\n",
              "      <script>\n",
              "        async function quickchart(key) {\n",
              "          const quickchartButtonEl =\n",
              "            document.querySelector('#' + key + ' button');\n",
              "          quickchartButtonEl.disabled = true;  // To prevent multiple clicks.\n",
              "          quickchartButtonEl.classList.add('colab-df-spinner');\n",
              "          try {\n",
              "            const charts = await google.colab.kernel.invokeFunction(\n",
              "                'suggestCharts', [key], {});\n",
              "          } catch (error) {\n",
              "            console.error('Error during call to suggestCharts:', error);\n",
              "          }\n",
              "          quickchartButtonEl.classList.remove('colab-df-spinner');\n",
              "          quickchartButtonEl.classList.add('colab-df-quickchart-complete');\n",
              "        }\n",
              "        (() => {\n",
              "          let quickchartButtonEl =\n",
              "            document.querySelector('#df-3abdc42e-73df-42e3-b3ab-e061833306f4 button');\n",
              "          quickchartButtonEl.style.display =\n",
              "            google.colab.kernel.accessAllowed ? 'block' : 'none';\n",
              "        })();\n",
              "      </script>\n",
              "    </div>\n",
              "\n",
              "  <div id=\"id_d85691c2-bf1d-404c-8f3a-897fba64c17b\">\n",
              "    <style>\n",
              "      .colab-df-generate {\n",
              "        background-color: #E8F0FE;\n",
              "        border: none;\n",
              "        border-radius: 50%;\n",
              "        cursor: pointer;\n",
              "        display: none;\n",
              "        fill: #1967D2;\n",
              "        height: 32px;\n",
              "        padding: 0 0 0 0;\n",
              "        width: 32px;\n",
              "      }\n",
              "\n",
              "      .colab-df-generate:hover {\n",
              "        background-color: #E2EBFA;\n",
              "        box-shadow: 0px 1px 2px rgba(60, 64, 67, 0.3), 0px 1px 3px 1px rgba(60, 64, 67, 0.15);\n",
              "        fill: #174EA6;\n",
              "      }\n",
              "\n",
              "      [theme=dark] .colab-df-generate {\n",
              "        background-color: #3B4455;\n",
              "        fill: #D2E3FC;\n",
              "      }\n",
              "\n",
              "      [theme=dark] .colab-df-generate:hover {\n",
              "        background-color: #434B5C;\n",
              "        box-shadow: 0px 1px 3px 1px rgba(0, 0, 0, 0.15);\n",
              "        filter: drop-shadow(0px 1px 2px rgba(0, 0, 0, 0.3));\n",
              "        fill: #FFFFFF;\n",
              "      }\n",
              "    </style>\n",
              "    <button class=\"colab-df-generate\" onclick=\"generateWithVariable('zone_location')\"\n",
              "            title=\"Generate code using this dataframe.\"\n",
              "            style=\"display:none;\">\n",
              "\n",
              "  <svg xmlns=\"http://www.w3.org/2000/svg\" height=\"24px\"viewBox=\"0 0 24 24\"\n",
              "       width=\"24px\">\n",
              "    <path d=\"M7,19H8.4L18.45,9,17,7.55,7,17.6ZM5,21V16.75L18.45,3.32a2,2,0,0,1,2.83,0l1.4,1.43a1.91,1.91,0,0,1,.58,1.4,1.91,1.91,0,0,1-.58,1.4L9.25,21ZM18.45,9,17,7.55Zm-12,3A5.31,5.31,0,0,0,4.9,8.1,5.31,5.31,0,0,0,1,6.5,5.31,5.31,0,0,0,4.9,4.9,5.31,5.31,0,0,0,6.5,1,5.31,5.31,0,0,0,8.1,4.9,5.31,5.31,0,0,0,12,6.5,5.46,5.46,0,0,0,6.5,12Z\"/>\n",
              "  </svg>\n",
              "    </button>\n",
              "    <script>\n",
              "      (() => {\n",
              "      const buttonEl =\n",
              "        document.querySelector('#id_d85691c2-bf1d-404c-8f3a-897fba64c17b button.colab-df-generate');\n",
              "      buttonEl.style.display =\n",
              "        google.colab.kernel.accessAllowed ? 'block' : 'none';\n",
              "\n",
              "      buttonEl.onclick = () => {\n",
              "        google.colab.notebook.generateWithVariable('zone_location');\n",
              "      }\n",
              "      })();\n",
              "    </script>\n",
              "  </div>\n",
              "\n",
              "    </div>\n",
              "  </div>\n"
            ],
            "application/vnd.google.colaboratory.intrinsic+json": {
              "type": "dataframe",
              "variable_name": "zone_location",
              "summary": "{\n  \"name\": \"zone_location\",\n  \"rows\": 265,\n  \"fields\": [\n    {\n      \"column\": \"LocationID\",\n      \"properties\": {\n        \"dtype\": \"number\",\n        \"std\": 76,\n        \"min\": 1,\n        \"max\": 265,\n        \"num_unique_values\": 265,\n        \"samples\": [\n          180,\n          116,\n          97\n        ],\n        \"semantic_type\": \"\",\n        \"description\": \"\"\n      }\n    },\n    {\n      \"column\": \"Borough\",\n      \"properties\": {\n        \"dtype\": \"category\",\n        \"num_unique_values\": 7,\n        \"samples\": [\n          \"EWR\",\n          \"Queens\",\n          \"Brooklyn\"\n        ],\n        \"semantic_type\": \"\",\n        \"description\": \"\"\n      }\n    },\n    {\n      \"column\": \"Zone\",\n      \"properties\": {\n        \"dtype\": \"string\",\n        \"num_unique_values\": 261,\n        \"samples\": [\n          \"Bronx Park\",\n          \"Longwood\",\n          \"Norwood\"\n        ],\n        \"semantic_type\": \"\",\n        \"description\": \"\"\n      }\n    },\n    {\n      \"column\": \"service_zone\",\n      \"properties\": {\n        \"dtype\": \"category\",\n        \"num_unique_values\": 4,\n        \"samples\": [\n          \"Boro Zone\",\n          \"Airports\",\n          \"EWR\"\n        ],\n        \"semantic_type\": \"\",\n        \"description\": \"\"\n      }\n    }\n  ]\n}"
            }
          },
          "metadata": {},
          "execution_count": 31
        }
      ]
    },
    {
      "cell_type": "code",
      "source": [
        "import geopandas as gpd\n",
        "\n",
        "gdf = gpd.read_file(\"/content/drive/MyDrive/DTW2/taxi_zones\")\n",
        "print(gdf.columns)\n"
      ],
      "metadata": {
        "colab": {
          "base_uri": "https://localhost:8080/"
        },
        "id": "4hd0gkqtX8cN",
        "outputId": "01dd93cb-6170-4d8c-981f-93a2ab196d2f"
      },
      "id": "4hd0gkqtX8cN",
      "execution_count": 32,
      "outputs": [
        {
          "output_type": "stream",
          "name": "stdout",
          "text": [
            "Index(['OBJECTID', 'Shape_Leng', 'Shape_Area', 'zone', 'LocationID', 'borough',\n",
            "       'geometry'],\n",
            "      dtype='object')\n"
          ]
        }
      ]
    },
    {
      "cell_type": "code",
      "source": [
        "merged_gdf = gdf.merge(zone_location, on='LocationID', how='left')\n",
        "print(merged_gdf.head())"
      ],
      "metadata": {
        "id": "XjqCljHOdNyM",
        "colab": {
          "base_uri": "https://localhost:8080/"
        },
        "outputId": "42601060-8233-4bb6-bd91-2a3bfaaeb03d"
      },
      "id": "XjqCljHOdNyM",
      "execution_count": 33,
      "outputs": [
        {
          "output_type": "stream",
          "name": "stdout",
          "text": [
            "   OBJECTID  Shape_Leng  Shape_Area                     zone  LocationID  \\\n",
            "0         1    0.116357    0.000782           Newark Airport           1   \n",
            "1         2    0.433470    0.004866              Jamaica Bay           2   \n",
            "2         3    0.084341    0.000314  Allerton/Pelham Gardens           3   \n",
            "3         4    0.043567    0.000112            Alphabet City           4   \n",
            "4         5    0.092146    0.000498            Arden Heights           5   \n",
            "\n",
            "         borough                                           geometry  \\\n",
            "0            EWR  POLYGON ((933100.918 192536.086, 933091.011 19...   \n",
            "1         Queens  MULTIPOLYGON (((1033269.244 172126.008, 103343...   \n",
            "2          Bronx  POLYGON ((1026308.77 256767.698, 1026495.593 2...   \n",
            "3      Manhattan  POLYGON ((992073.467 203714.076, 992068.667 20...   \n",
            "4  Staten Island  POLYGON ((935843.31 144283.336, 936046.565 144...   \n",
            "\n",
            "         Borough                     Zone service_zone  \n",
            "0            EWR           Newark Airport          EWR  \n",
            "1         Queens              Jamaica Bay    Boro Zone  \n",
            "2          Bronx  Allerton/Pelham Gardens    Boro Zone  \n",
            "3      Manhattan            Alphabet City  Yellow Zone  \n",
            "4  Staten Island            Arden Heights    Boro Zone  \n"
          ]
        }
      ]
    },
    {
      "cell_type": "markdown",
      "source": [
        "รวมข้อมูล 3 เดือน และ drop คอลัมน์ที่ไม่ได้ใช้ออก"
      ],
      "metadata": {
        "id": "7o4CpmXv5Vt9"
      },
      "id": "7o4CpmXv5Vt9"
    },
    {
      "cell_type": "code",
      "source": [
        "# Convert datetime columns in oct_ytaxi to microseconds precision\n",
        "oct_ytaxi = oct_ytaxi.with_columns(\n",
        "    pl.col(\"tpep_pickup_datetime\").cast(pl.Datetime(\"us\")),\n",
        "    pl.col(\"tpep_dropoff_datetime\").cast(pl.Datetime(\"us\"))\n",
        ")\n",
        "\n",
        "df_quarters4_ytaxi = pl.concat([oct_ytaxi, nov_ytaxi, dec_ytaxi]) #รวมหัวมูลแบบแนวตั้งเนื่องจากมีคอลัมน์เหมือนกัน\n",
        "\n",
        "df_quarters4_ytaxi"
      ],
      "metadata": {
        "colab": {
          "base_uri": "https://localhost:8080/",
          "height": 458
        },
        "id": "Z8NLFNRa5TC1",
        "outputId": "70f821d6-d856-4821-81d1-cd35368d9855"
      },
      "id": "Z8NLFNRa5TC1",
      "execution_count": 34,
      "outputs": [
        {
          "output_type": "execute_result",
          "data": {
            "text/plain": [
              "shape: (11_148_511, 19)\n",
              "┌──────────┬───────────┬───────────┬───────────┬───┬───────────┬───────────┬───────────┬───────────┐\n",
              "│ VendorID ┆ tpep_pick ┆ tpep_drop ┆ passenger ┆ … ┆ improveme ┆ total_amo ┆ congestio ┆ Airport_f │\n",
              "│ ---      ┆ up_dateti ┆ off_datet ┆ _count    ┆   ┆ nt_surcha ┆ unt       ┆ n_surchar ┆ ee        │\n",
              "│ i32      ┆ me        ┆ ime       ┆ ---       ┆   ┆ rge       ┆ ---       ┆ ge        ┆ ---       │\n",
              "│          ┆ ---       ┆ ---       ┆ i64       ┆   ┆ ---       ┆ f64       ┆ ---       ┆ f64       │\n",
              "│          ┆ datetime[ ┆ datetime[ ┆           ┆   ┆ f64       ┆           ┆ f64       ┆           │\n",
              "│          ┆ μs]       ┆ μs]       ┆           ┆   ┆           ┆           ┆           ┆           │\n",
              "╞══════════╪═══════════╪═══════════╪═══════════╪═══╪═══════════╪═══════════╪═══════════╪═══════════╡\n",
              "│ 2        ┆ 2024-10-0 ┆ 2024-10-0 ┆ 1         ┆ … ┆ 1.0       ┆ 24.9      ┆ 2.5       ┆ 0.0       │\n",
              "│          ┆ 1         ┆ 1         ┆           ┆   ┆           ┆           ┆           ┆           │\n",
              "│          ┆ 00:30:44  ┆ 00:48:26  ┆           ┆   ┆           ┆           ┆           ┆           │\n",
              "│ 1        ┆ 2024-10-0 ┆ 2024-10-0 ┆ 1         ┆ … ┆ 1.0       ┆ 23.0      ┆ 2.5       ┆ 0.0       │\n",
              "│          ┆ 1         ┆ 1         ┆           ┆   ┆           ┆           ┆           ┆           │\n",
              "│          ┆ 00:12:20  ┆ 00:25:25  ┆           ┆   ┆           ┆           ┆           ┆           │\n",
              "│ 1        ┆ 2024-10-0 ┆ 2024-10-0 ┆ 1         ┆ … ┆ 1.0       ┆ 22.2      ┆ 2.5       ┆ 0.0       │\n",
              "│          ┆ 1         ┆ 1         ┆           ┆   ┆           ┆           ┆           ┆           │\n",
              "│          ┆ 00:04:46  ┆ 00:13:52  ┆           ┆   ┆           ┆           ┆           ┆           │\n",
              "│ 1        ┆ 2024-10-0 ┆ 2024-10-0 ┆ 1         ┆ … ┆ 1.0       ┆ 21.2      ┆ 2.5       ┆ 0.0       │\n",
              "│          ┆ 1         ┆ 1         ┆           ┆   ┆           ┆           ┆           ┆           │\n",
              "│          ┆ 00:12:10  ┆ 00:23:01  ┆           ┆   ┆           ┆           ┆           ┆           │\n",
              "│ 1        ┆ 2024-10-0 ┆ 2024-10-0 ┆ 1         ┆ … ┆ 1.0       ┆ 8.0       ┆ 2.5       ┆ 0.0       │\n",
              "│          ┆ 1         ┆ 1         ┆           ┆   ┆           ┆           ┆           ┆           │\n",
              "│          ┆ 00:30:22  ┆ 00:30:39  ┆           ┆   ┆           ┆           ┆           ┆           │\n",
              "│ …        ┆ …         ┆ …         ┆ …         ┆ … ┆ …         ┆ …         ┆ …         ┆ …         │\n",
              "│ 2        ┆ 2024-12-3 ┆ 2024-12-3 ┆ null      ┆ … ┆ 1.0       ┆ -2.63     ┆ null      ┆ null      │\n",
              "│          ┆ 1         ┆ 1         ┆           ┆   ┆           ┆           ┆           ┆           │\n",
              "│          ┆ 23:32:00  ┆ 23:56:00  ┆           ┆   ┆           ┆           ┆           ┆           │\n",
              "│ 2        ┆ 2024-12-3 ┆ 2024-12-3 ┆ null      ┆ … ┆ 1.0       ┆ -0.18     ┆ null      ┆ null      │\n",
              "│          ┆ 1         ┆ 1         ┆           ┆   ┆           ┆           ┆           ┆           │\n",
              "│          ┆ 23:05:00  ┆ 23:18:00  ┆           ┆   ┆           ┆           ┆           ┆           │\n",
              "│ 2        ┆ 2024-12-3 ┆ 2024-12-3 ┆ null      ┆ … ┆ 1.0       ┆ 11.15     ┆ null      ┆ null      │\n",
              "│          ┆ 1         ┆ 1         ┆           ┆   ┆           ┆           ┆           ┆           │\n",
              "│          ┆ 23:03:16  ┆ 23:28:35  ┆           ┆   ┆           ┆           ┆           ┆           │\n",
              "│ 1        ┆ 2024-12-3 ┆ 2024-12-3 ┆ null      ┆ … ┆ 1.0       ┆ 28.57     ┆ null      ┆ null      │\n",
              "│          ┆ 1         ┆ 1         ┆           ┆   ┆           ┆           ┆           ┆           │\n",
              "│          ┆ 23:15:33  ┆ 23:36:29  ┆           ┆   ┆           ┆           ┆           ┆           │\n",
              "│ 2        ┆ 2024-12-3 ┆ 2024-12-3 ┆ null      ┆ … ┆ 1.0       ┆ 6.17      ┆ null      ┆ null      │\n",
              "│          ┆ 1         ┆ 1         ┆           ┆   ┆           ┆           ┆           ┆           │\n",
              "│          ┆ 23:04:36  ┆ 23:33:34  ┆           ┆   ┆           ┆           ┆           ┆           │\n",
              "└──────────┴───────────┴───────────┴───────────┴───┴───────────┴───────────┴───────────┴───────────┘"
            ],
            "text/html": [
              "<div><style>\n",
              ".dataframe > thead > tr,\n",
              ".dataframe > tbody > tr {\n",
              "  text-align: right;\n",
              "  white-space: pre-wrap;\n",
              "}\n",
              "</style>\n",
              "<small>shape: (11_148_511, 19)</small><table border=\"1\" class=\"dataframe\"><thead><tr><th>VendorID</th><th>tpep_pickup_datetime</th><th>tpep_dropoff_datetime</th><th>passenger_count</th><th>trip_distance</th><th>RatecodeID</th><th>store_and_fwd_flag</th><th>PULocationID</th><th>DOLocationID</th><th>payment_type</th><th>fare_amount</th><th>extra</th><th>mta_tax</th><th>tip_amount</th><th>tolls_amount</th><th>improvement_surcharge</th><th>total_amount</th><th>congestion_surcharge</th><th>Airport_fee</th></tr><tr><td>i32</td><td>datetime[μs]</td><td>datetime[μs]</td><td>i64</td><td>f64</td><td>i64</td><td>str</td><td>i32</td><td>i32</td><td>i64</td><td>f64</td><td>f64</td><td>f64</td><td>f64</td><td>f64</td><td>f64</td><td>f64</td><td>f64</td><td>f64</td></tr></thead><tbody><tr><td>2</td><td>2024-10-01 00:30:44</td><td>2024-10-01 00:48:26</td><td>1</td><td>3.0</td><td>1</td><td>&quot;N&quot;</td><td>162</td><td>246</td><td>1</td><td>18.4</td><td>1.0</td><td>0.5</td><td>1.5</td><td>0.0</td><td>1.0</td><td>24.9</td><td>2.5</td><td>0.0</td></tr><tr><td>1</td><td>2024-10-01 00:12:20</td><td>2024-10-01 00:25:25</td><td>1</td><td>2.2</td><td>1</td><td>&quot;N&quot;</td><td>48</td><td>236</td><td>1</td><td>14.2</td><td>3.5</td><td>0.5</td><td>3.8</td><td>0.0</td><td>1.0</td><td>23.0</td><td>2.5</td><td>0.0</td></tr><tr><td>1</td><td>2024-10-01 00:04:46</td><td>2024-10-01 00:13:52</td><td>1</td><td>2.7</td><td>1</td><td>&quot;N&quot;</td><td>142</td><td>24</td><td>1</td><td>13.5</td><td>3.5</td><td>0.5</td><td>3.7</td><td>0.0</td><td>1.0</td><td>22.2</td><td>2.5</td><td>0.0</td></tr><tr><td>1</td><td>2024-10-01 00:12:10</td><td>2024-10-01 00:23:01</td><td>1</td><td>3.1</td><td>1</td><td>&quot;N&quot;</td><td>233</td><td>75</td><td>1</td><td>14.2</td><td>3.5</td><td>0.5</td><td>2.0</td><td>0.0</td><td>1.0</td><td>21.2</td><td>2.5</td><td>0.0</td></tr><tr><td>1</td><td>2024-10-01 00:30:22</td><td>2024-10-01 00:30:39</td><td>1</td><td>0.0</td><td>1</td><td>&quot;N&quot;</td><td>262</td><td>262</td><td>3</td><td>3.0</td><td>3.5</td><td>0.5</td><td>0.0</td><td>0.0</td><td>1.0</td><td>8.0</td><td>2.5</td><td>0.0</td></tr><tr><td>&hellip;</td><td>&hellip;</td><td>&hellip;</td><td>&hellip;</td><td>&hellip;</td><td>&hellip;</td><td>&hellip;</td><td>&hellip;</td><td>&hellip;</td><td>&hellip;</td><td>&hellip;</td><td>&hellip;</td><td>&hellip;</td><td>&hellip;</td><td>&hellip;</td><td>&hellip;</td><td>&hellip;</td><td>&hellip;</td><td>&hellip;</td></tr><tr><td>2</td><td>2024-12-31 23:32:00</td><td>2024-12-31 23:56:00</td><td>null</td><td>10.71</td><td>null</td><td>null</td><td>16</td><td>7</td><td>0</td><td>-4.13</td><td>0.0</td><td>0.5</td><td>0.0</td><td>0.0</td><td>1.0</td><td>-2.63</td><td>null</td><td>null</td></tr><tr><td>2</td><td>2024-12-31 23:05:00</td><td>2024-12-31 23:18:00</td><td>null</td><td>4.56</td><td>null</td><td>null</td><td>252</td><td>16</td><td>0</td><td>-1.68</td><td>0.0</td><td>0.5</td><td>0.0</td><td>0.0</td><td>1.0</td><td>-0.18</td><td>null</td><td>null</td></tr><tr><td>2</td><td>2024-12-31 23:03:16</td><td>2024-12-31 23:28:35</td><td>null</td><td>3.94</td><td>null</td><td>null</td><td>181</td><td>255</td><td>0</td><td>4.46</td><td>0.0</td><td>0.5</td><td>5.19</td><td>0.0</td><td>1.0</td><td>11.15</td><td>null</td><td>null</td></tr><tr><td>1</td><td>2024-12-31 23:15:33</td><td>2024-12-31 23:36:29</td><td>null</td><td>4.2</td><td>null</td><td>null</td><td>165</td><td>61</td><td>0</td><td>27.07</td><td>0.0</td><td>0.5</td><td>0.0</td><td>0.0</td><td>1.0</td><td>28.57</td><td>null</td><td>null</td></tr><tr><td>2</td><td>2024-12-31 23:04:36</td><td>2024-12-31 23:33:34</td><td>null</td><td>5.76</td><td>null</td><td>null</td><td>225</td><td>114</td><td>0</td><td>2.17</td><td>0.0</td><td>0.5</td><td>0.0</td><td>0.0</td><td>1.0</td><td>6.17</td><td>null</td><td>null</td></tr></tbody></table></div>"
            ]
          },
          "metadata": {},
          "execution_count": 34
        }
      ]
    },
    {
      "cell_type": "code",
      "source": [
        "sl_quarters4_ytaxi = df_quarters4_ytaxi.drop(['VendorID','store_and_fwd_flag','payment_type','extra','mta_tax','tolls_amount','improvement_surcharge','congestion_surcharge','Airport_fee'])\n",
        "sl_quarters4_ytaxi"
      ],
      "metadata": {
        "colab": {
          "base_uri": "https://localhost:8080/",
          "height": 458
        },
        "id": "DEefVMtAW8xX",
        "outputId": "c5b7e558-21e6-4bbe-c4a7-526ed438c9b5"
      },
      "id": "DEefVMtAW8xX",
      "execution_count": 35,
      "outputs": [
        {
          "output_type": "execute_result",
          "data": {
            "text/plain": [
              "shape: (11_148_511, 10)\n",
              "┌───────────┬───────────┬───────────┬───────────┬───┬───────────┬───────────┬───────────┬──────────┐\n",
              "│ tpep_pick ┆ tpep_drop ┆ passenger ┆ trip_dist ┆ … ┆ DOLocatio ┆ fare_amou ┆ tip_amoun ┆ total_am │\n",
              "│ up_dateti ┆ off_datet ┆ _count    ┆ ance      ┆   ┆ nID       ┆ nt        ┆ t         ┆ ount     │\n",
              "│ me        ┆ ime       ┆ ---       ┆ ---       ┆   ┆ ---       ┆ ---       ┆ ---       ┆ ---      │\n",
              "│ ---       ┆ ---       ┆ i64       ┆ f64       ┆   ┆ i32       ┆ f64       ┆ f64       ┆ f64      │\n",
              "│ datetime[ ┆ datetime[ ┆           ┆           ┆   ┆           ┆           ┆           ┆          │\n",
              "│ μs]       ┆ μs]       ┆           ┆           ┆   ┆           ┆           ┆           ┆          │\n",
              "╞═══════════╪═══════════╪═══════════╪═══════════╪═══╪═══════════╪═══════════╪═══════════╪══════════╡\n",
              "│ 2024-10-0 ┆ 2024-10-0 ┆ 1         ┆ 3.0       ┆ … ┆ 246       ┆ 18.4      ┆ 1.5       ┆ 24.9     │\n",
              "│ 1         ┆ 1         ┆           ┆           ┆   ┆           ┆           ┆           ┆          │\n",
              "│ 00:30:44  ┆ 00:48:26  ┆           ┆           ┆   ┆           ┆           ┆           ┆          │\n",
              "│ 2024-10-0 ┆ 2024-10-0 ┆ 1         ┆ 2.2       ┆ … ┆ 236       ┆ 14.2      ┆ 3.8       ┆ 23.0     │\n",
              "│ 1         ┆ 1         ┆           ┆           ┆   ┆           ┆           ┆           ┆          │\n",
              "│ 00:12:20  ┆ 00:25:25  ┆           ┆           ┆   ┆           ┆           ┆           ┆          │\n",
              "│ 2024-10-0 ┆ 2024-10-0 ┆ 1         ┆ 2.7       ┆ … ┆ 24        ┆ 13.5      ┆ 3.7       ┆ 22.2     │\n",
              "│ 1         ┆ 1         ┆           ┆           ┆   ┆           ┆           ┆           ┆          │\n",
              "│ 00:04:46  ┆ 00:13:52  ┆           ┆           ┆   ┆           ┆           ┆           ┆          │\n",
              "│ 2024-10-0 ┆ 2024-10-0 ┆ 1         ┆ 3.1       ┆ … ┆ 75        ┆ 14.2      ┆ 2.0       ┆ 21.2     │\n",
              "│ 1         ┆ 1         ┆           ┆           ┆   ┆           ┆           ┆           ┆          │\n",
              "│ 00:12:10  ┆ 00:23:01  ┆           ┆           ┆   ┆           ┆           ┆           ┆          │\n",
              "│ 2024-10-0 ┆ 2024-10-0 ┆ 1         ┆ 0.0       ┆ … ┆ 262       ┆ 3.0       ┆ 0.0       ┆ 8.0      │\n",
              "│ 1         ┆ 1         ┆           ┆           ┆   ┆           ┆           ┆           ┆          │\n",
              "│ 00:30:22  ┆ 00:30:39  ┆           ┆           ┆   ┆           ┆           ┆           ┆          │\n",
              "│ …         ┆ …         ┆ …         ┆ …         ┆ … ┆ …         ┆ …         ┆ …         ┆ …        │\n",
              "│ 2024-12-3 ┆ 2024-12-3 ┆ null      ┆ 10.71     ┆ … ┆ 7         ┆ -4.13     ┆ 0.0       ┆ -2.63    │\n",
              "│ 1         ┆ 1         ┆           ┆           ┆   ┆           ┆           ┆           ┆          │\n",
              "│ 23:32:00  ┆ 23:56:00  ┆           ┆           ┆   ┆           ┆           ┆           ┆          │\n",
              "│ 2024-12-3 ┆ 2024-12-3 ┆ null      ┆ 4.56      ┆ … ┆ 16        ┆ -1.68     ┆ 0.0       ┆ -0.18    │\n",
              "│ 1         ┆ 1         ┆           ┆           ┆   ┆           ┆           ┆           ┆          │\n",
              "│ 23:05:00  ┆ 23:18:00  ┆           ┆           ┆   ┆           ┆           ┆           ┆          │\n",
              "│ 2024-12-3 ┆ 2024-12-3 ┆ null      ┆ 3.94      ┆ … ┆ 255       ┆ 4.46      ┆ 5.19      ┆ 11.15    │\n",
              "│ 1         ┆ 1         ┆           ┆           ┆   ┆           ┆           ┆           ┆          │\n",
              "│ 23:03:16  ┆ 23:28:35  ┆           ┆           ┆   ┆           ┆           ┆           ┆          │\n",
              "│ 2024-12-3 ┆ 2024-12-3 ┆ null      ┆ 4.2       ┆ … ┆ 61        ┆ 27.07     ┆ 0.0       ┆ 28.57    │\n",
              "│ 1         ┆ 1         ┆           ┆           ┆   ┆           ┆           ┆           ┆          │\n",
              "│ 23:15:33  ┆ 23:36:29  ┆           ┆           ┆   ┆           ┆           ┆           ┆          │\n",
              "│ 2024-12-3 ┆ 2024-12-3 ┆ null      ┆ 5.76      ┆ … ┆ 114       ┆ 2.17      ┆ 0.0       ┆ 6.17     │\n",
              "│ 1         ┆ 1         ┆           ┆           ┆   ┆           ┆           ┆           ┆          │\n",
              "│ 23:04:36  ┆ 23:33:34  ┆           ┆           ┆   ┆           ┆           ┆           ┆          │\n",
              "└───────────┴───────────┴───────────┴───────────┴───┴───────────┴───────────┴───────────┴──────────┘"
            ],
            "text/html": [
              "<div><style>\n",
              ".dataframe > thead > tr,\n",
              ".dataframe > tbody > tr {\n",
              "  text-align: right;\n",
              "  white-space: pre-wrap;\n",
              "}\n",
              "</style>\n",
              "<small>shape: (11_148_511, 10)</small><table border=\"1\" class=\"dataframe\"><thead><tr><th>tpep_pickup_datetime</th><th>tpep_dropoff_datetime</th><th>passenger_count</th><th>trip_distance</th><th>RatecodeID</th><th>PULocationID</th><th>DOLocationID</th><th>fare_amount</th><th>tip_amount</th><th>total_amount</th></tr><tr><td>datetime[μs]</td><td>datetime[μs]</td><td>i64</td><td>f64</td><td>i64</td><td>i32</td><td>i32</td><td>f64</td><td>f64</td><td>f64</td></tr></thead><tbody><tr><td>2024-10-01 00:30:44</td><td>2024-10-01 00:48:26</td><td>1</td><td>3.0</td><td>1</td><td>162</td><td>246</td><td>18.4</td><td>1.5</td><td>24.9</td></tr><tr><td>2024-10-01 00:12:20</td><td>2024-10-01 00:25:25</td><td>1</td><td>2.2</td><td>1</td><td>48</td><td>236</td><td>14.2</td><td>3.8</td><td>23.0</td></tr><tr><td>2024-10-01 00:04:46</td><td>2024-10-01 00:13:52</td><td>1</td><td>2.7</td><td>1</td><td>142</td><td>24</td><td>13.5</td><td>3.7</td><td>22.2</td></tr><tr><td>2024-10-01 00:12:10</td><td>2024-10-01 00:23:01</td><td>1</td><td>3.1</td><td>1</td><td>233</td><td>75</td><td>14.2</td><td>2.0</td><td>21.2</td></tr><tr><td>2024-10-01 00:30:22</td><td>2024-10-01 00:30:39</td><td>1</td><td>0.0</td><td>1</td><td>262</td><td>262</td><td>3.0</td><td>0.0</td><td>8.0</td></tr><tr><td>&hellip;</td><td>&hellip;</td><td>&hellip;</td><td>&hellip;</td><td>&hellip;</td><td>&hellip;</td><td>&hellip;</td><td>&hellip;</td><td>&hellip;</td><td>&hellip;</td></tr><tr><td>2024-12-31 23:32:00</td><td>2024-12-31 23:56:00</td><td>null</td><td>10.71</td><td>null</td><td>16</td><td>7</td><td>-4.13</td><td>0.0</td><td>-2.63</td></tr><tr><td>2024-12-31 23:05:00</td><td>2024-12-31 23:18:00</td><td>null</td><td>4.56</td><td>null</td><td>252</td><td>16</td><td>-1.68</td><td>0.0</td><td>-0.18</td></tr><tr><td>2024-12-31 23:03:16</td><td>2024-12-31 23:28:35</td><td>null</td><td>3.94</td><td>null</td><td>181</td><td>255</td><td>4.46</td><td>5.19</td><td>11.15</td></tr><tr><td>2024-12-31 23:15:33</td><td>2024-12-31 23:36:29</td><td>null</td><td>4.2</td><td>null</td><td>165</td><td>61</td><td>27.07</td><td>0.0</td><td>28.57</td></tr><tr><td>2024-12-31 23:04:36</td><td>2024-12-31 23:33:34</td><td>null</td><td>5.76</td><td>null</td><td>225</td><td>114</td><td>2.17</td><td>0.0</td><td>6.17</td></tr></tbody></table></div>"
            ]
          },
          "metadata": {},
          "execution_count": 35
        }
      ]
    },
    {
      "cell_type": "markdown",
      "id": "4e918b6a",
      "metadata": {
        "id": "4e918b6a"
      },
      "source": [
        "## Data Preparation"
      ]
    },
    {
      "cell_type": "code",
      "execution_count": null,
      "id": "4bef1862",
      "metadata": {
        "id": "4bef1862"
      },
      "outputs": [],
      "source": [
        "# Explore variables and check data quality✅\n",
        "\n",
        "# Handle missing values✅, outliers, and noises\n",
        "\n",
        "# Perform feature engineering (optional)\n"
      ]
    },
    {
      "cell_type": "code",
      "metadata": {
        "colab": {
          "base_uri": "https://localhost:8080/"
        },
        "id": "18abc243",
        "outputId": "2937d297-d007-4c66-c346-af04f7992d79"
      },
      "source": [
        "sl_quarters4_ytaxi.schema"
      ],
      "id": "18abc243",
      "execution_count": 40,
      "outputs": [
        {
          "output_type": "execute_result",
          "data": {
            "text/plain": [
              "Schema([('tpep_pickup_datetime', Datetime(time_unit='us', time_zone=None)),\n",
              "        ('tpep_dropoff_datetime', Datetime(time_unit='us', time_zone=None)),\n",
              "        ('passenger_count', Int64),\n",
              "        ('trip_distance', Float64),\n",
              "        ('RatecodeID', Int64),\n",
              "        ('PULocationID', Int32),\n",
              "        ('DOLocationID', Int32),\n",
              "        ('fare_amount', Float64),\n",
              "        ('tip_amount', Float64),\n",
              "        ('total_amount', Float64)])"
            ]
          },
          "metadata": {},
          "execution_count": 40
        }
      ]
    },
    {
      "cell_type": "code",
      "source": [
        "# Check missing value\n",
        "sl_quarters4_ytaxi.null_count()"
      ],
      "metadata": {
        "colab": {
          "base_uri": "https://localhost:8080/",
          "height": 148
        },
        "id": "NsopBiBTfvtU",
        "outputId": "3b090e07-68db-4b33-9737-61f2d7e548bf"
      },
      "id": "NsopBiBTfvtU",
      "execution_count": 43,
      "outputs": [
        {
          "output_type": "execute_result",
          "data": {
            "text/plain": [
              "shape: (1, 10)\n",
              "┌───────────┬───────────┬───────────┬───────────┬───┬───────────┬───────────┬───────────┬──────────┐\n",
              "│ tpep_pick ┆ tpep_drop ┆ passenger ┆ trip_dist ┆ … ┆ DOLocatio ┆ fare_amou ┆ tip_amoun ┆ total_am │\n",
              "│ up_dateti ┆ off_datet ┆ _count    ┆ ance      ┆   ┆ nID       ┆ nt        ┆ t         ┆ ount     │\n",
              "│ me        ┆ ime       ┆ ---       ┆ ---       ┆   ┆ ---       ┆ ---       ┆ ---       ┆ ---      │\n",
              "│ ---       ┆ ---       ┆ u32       ┆ u32       ┆   ┆ u32       ┆ u32       ┆ u32       ┆ u32      │\n",
              "│ u32       ┆ u32       ┆           ┆           ┆   ┆           ┆           ┆           ┆          │\n",
              "╞═══════════╪═══════════╪═══════════╪═══════════╪═══╪═══════════╪═══════════╪═══════════╪══════════╡\n",
              "│ 0         ┆ 0         ┆ 1093860   ┆ 0         ┆ … ┆ 0         ┆ 0         ┆ 0         ┆ 0        │\n",
              "└───────────┴───────────┴───────────┴───────────┴───┴───────────┴───────────┴───────────┴──────────┘"
            ],
            "text/html": [
              "<div><style>\n",
              ".dataframe > thead > tr,\n",
              ".dataframe > tbody > tr {\n",
              "  text-align: right;\n",
              "  white-space: pre-wrap;\n",
              "}\n",
              "</style>\n",
              "<small>shape: (1, 10)</small><table border=\"1\" class=\"dataframe\"><thead><tr><th>tpep_pickup_datetime</th><th>tpep_dropoff_datetime</th><th>passenger_count</th><th>trip_distance</th><th>RatecodeID</th><th>PULocationID</th><th>DOLocationID</th><th>fare_amount</th><th>tip_amount</th><th>total_amount</th></tr><tr><td>u32</td><td>u32</td><td>u32</td><td>u32</td><td>u32</td><td>u32</td><td>u32</td><td>u32</td><td>u32</td><td>u32</td></tr></thead><tbody><tr><td>0</td><td>0</td><td>1093860</td><td>0</td><td>1093860</td><td>0</td><td>0</td><td>0</td><td>0</td><td>0</td></tr></tbody></table></div>"
            ]
          },
          "metadata": {},
          "execution_count": 43
        }
      ]
    },
    {
      "cell_type": "code",
      "source": [
        "# Check duplicate row\n",
        "print(\"Number of duplicate rows:\")\n",
        "print(sl_quarters4_ytaxi.height - sl_quarters4_ytaxi.unique().height)"
      ],
      "metadata": {
        "colab": {
          "base_uri": "https://localhost:8080/"
        },
        "id": "RkDmjtdzhKAn",
        "outputId": "f32b4926-4b63-404a-a904-0c2b01133f52"
      },
      "id": "RkDmjtdzhKAn",
      "execution_count": 45,
      "outputs": [
        {
          "output_type": "stream",
          "name": "stdout",
          "text": [
            "Number of duplicate rows:\n",
            "2\n"
          ]
        }
      ]
    },
    {
      "cell_type": "code",
      "source": [
        "# remove duplicates\n",
        "cl_quarters4_ytaxi = sl_quarters4_ytaxi.unique() #ใน polars การลบค่าซ้ำจะใช้ .unique()\n",
        "cl_quarters4_ytaxi"
      ],
      "metadata": {
        "colab": {
          "base_uri": "https://localhost:8080/",
          "height": 458
        },
        "id": "0omk00G0nFOc",
        "outputId": "d56bd69f-993e-4073-a3cb-e68de77dd2e0"
      },
      "id": "0omk00G0nFOc",
      "execution_count": 50,
      "outputs": [
        {
          "output_type": "execute_result",
          "data": {
            "text/plain": [
              "shape: (11_148_509, 10)\n",
              "┌───────────┬───────────┬───────────┬───────────┬───┬───────────┬───────────┬───────────┬──────────┐\n",
              "│ tpep_pick ┆ tpep_drop ┆ passenger ┆ trip_dist ┆ … ┆ DOLocatio ┆ fare_amou ┆ tip_amoun ┆ total_am │\n",
              "│ up_dateti ┆ off_datet ┆ _count    ┆ ance      ┆   ┆ nID       ┆ nt        ┆ t         ┆ ount     │\n",
              "│ me        ┆ ime       ┆ ---       ┆ ---       ┆   ┆ ---       ┆ ---       ┆ ---       ┆ ---      │\n",
              "│ ---       ┆ ---       ┆ i64       ┆ f64       ┆   ┆ i32       ┆ f64       ┆ f64       ┆ f64      │\n",
              "│ datetime[ ┆ datetime[ ┆           ┆           ┆   ┆           ┆           ┆           ┆          │\n",
              "│ μs]       ┆ μs]       ┆           ┆           ┆   ┆           ┆           ┆           ┆          │\n",
              "╞═══════════╪═══════════╪═══════════╪═══════════╪═══╪═══════════╪═══════════╪═══════════╪══════════╡\n",
              "│ 2024-12-1 ┆ 2024-12-1 ┆ null      ┆ 1.16      ┆ … ┆ 216       ┆ 6.47      ┆ 0.0       ┆ 7.97     │\n",
              "│ 0         ┆ 0         ┆           ┆           ┆   ┆           ┆           ┆           ┆          │\n",
              "│ 05:51:55  ┆ 05:57:15  ┆           ┆           ┆   ┆           ┆           ┆           ┆          │\n",
              "│ 2024-10-0 ┆ 2024-10-0 ┆ 1         ┆ 0.5       ┆ … ┆ 170       ┆ 6.5       ┆ 1.0       ┆ 11.5     │\n",
              "│ 7         ┆ 7         ┆           ┆           ┆   ┆           ┆           ┆           ┆          │\n",
              "│ 11:02:26  ┆ 11:08:11  ┆           ┆           ┆   ┆           ┆           ┆           ┆          │\n",
              "│ 2024-10-3 ┆ 2024-10-3 ┆ 1         ┆ 0.72      ┆ … ┆ 230       ┆ 7.2       ┆ 2.44      ┆ 14.64    │\n",
              "│ 0         ┆ 0         ┆           ┆           ┆   ┆           ┆           ┆           ┆          │\n",
              "│ 20:25:23  ┆ 20:31:17  ┆           ┆           ┆   ┆           ┆           ┆           ┆          │\n",
              "│ 2024-10-1 ┆ 2024-10-1 ┆ null      ┆ 0.53      ┆ … ┆ 24        ┆ 7.97      ┆ 0.0       ┆ 9.47     │\n",
              "│ 9         ┆ 9         ┆           ┆           ┆   ┆           ┆           ┆           ┆          │\n",
              "│ 08:31:00  ┆ 08:33:00  ┆           ┆           ┆   ┆           ┆           ┆           ┆          │\n",
              "│ 2024-11-2 ┆ 2024-11-2 ┆ 1         ┆ 7.72      ┆ … ┆ 93        ┆ 30.3      ┆ 0.0       ┆ 34.55    │\n",
              "│ 6         ┆ 6         ┆           ┆           ┆   ┆           ┆           ┆           ┆          │\n",
              "│ 20:44:10  ┆ 21:00:06  ┆           ┆           ┆   ┆           ┆           ┆           ┆          │\n",
              "│ …         ┆ …         ┆ …         ┆ …         ┆ … ┆ …         ┆ …         ┆ …         ┆ …        │\n",
              "│ 2024-12-2 ┆ 2024-12-2 ┆ 6         ┆ 17.69     ┆ … ┆ 51        ┆ 73.0      ┆ 0.0       ┆ 83.94    │\n",
              "│ 4         ┆ 4         ┆           ┆           ┆   ┆           ┆           ┆           ┆          │\n",
              "│ 18:29:48  ┆ 19:19:45  ┆           ┆           ┆   ┆           ┆           ┆           ┆          │\n",
              "│ 2024-11-2 ┆ 2024-11-2 ┆ 2         ┆ 2.41      ┆ … ┆ 170       ┆ 28.2      ┆ 5.0       ┆ 39.7     │\n",
              "│ 6         ┆ 6         ┆           ┆           ┆   ┆           ┆           ┆           ┆          │\n",
              "│ 16:26:29  ┆ 17:00:21  ┆           ┆           ┆   ┆           ┆           ┆           ┆          │\n",
              "│ 2024-10-2 ┆ 2024-10-2 ┆ 1         ┆ 2.79      ┆ … ┆ 229       ┆ 17.7      ┆ 4.54      ┆ 27.24    │\n",
              "│ 2         ┆ 2         ┆           ┆           ┆   ┆           ┆           ┆           ┆          │\n",
              "│ 20:48:02  ┆ 21:06:39  ┆           ┆           ┆   ┆           ┆           ┆           ┆          │\n",
              "│ 2024-11-3 ┆ 2024-11-3 ┆ 0         ┆ 9.3       ┆ … ┆ 141       ┆ 38.0      ┆ 9.0       ┆ 64.69    │\n",
              "│ 0         ┆ 0         ┆           ┆           ┆   ┆           ┆           ┆           ┆          │\n",
              "│ 19:15:20  ┆ 19:39:41  ┆           ┆           ┆   ┆           ┆           ┆           ┆          │\n",
              "│ 2024-10-2 ┆ 2024-10-2 ┆ 1         ┆ 2.13      ┆ … ┆ 234       ┆ 16.3      ┆ 4.56      ┆ 27.36    │\n",
              "│ 3         ┆ 3         ┆           ┆           ┆   ┆           ┆           ┆           ┆          │\n",
              "│ 17:29:12  ┆ 17:46:12  ┆           ┆           ┆   ┆           ┆           ┆           ┆          │\n",
              "└───────────┴───────────┴───────────┴───────────┴───┴───────────┴───────────┴───────────┴──────────┘"
            ],
            "text/html": [
              "<div><style>\n",
              ".dataframe > thead > tr,\n",
              ".dataframe > tbody > tr {\n",
              "  text-align: right;\n",
              "  white-space: pre-wrap;\n",
              "}\n",
              "</style>\n",
              "<small>shape: (11_148_509, 10)</small><table border=\"1\" class=\"dataframe\"><thead><tr><th>tpep_pickup_datetime</th><th>tpep_dropoff_datetime</th><th>passenger_count</th><th>trip_distance</th><th>RatecodeID</th><th>PULocationID</th><th>DOLocationID</th><th>fare_amount</th><th>tip_amount</th><th>total_amount</th></tr><tr><td>datetime[μs]</td><td>datetime[μs]</td><td>i64</td><td>f64</td><td>i64</td><td>i32</td><td>i32</td><td>f64</td><td>f64</td><td>f64</td></tr></thead><tbody><tr><td>2024-12-10 05:51:55</td><td>2024-12-10 05:57:15</td><td>null</td><td>1.16</td><td>null</td><td>197</td><td>216</td><td>6.47</td><td>0.0</td><td>7.97</td></tr><tr><td>2024-10-07 11:02:26</td><td>2024-10-07 11:08:11</td><td>1</td><td>0.5</td><td>1</td><td>137</td><td>170</td><td>6.5</td><td>1.0</td><td>11.5</td></tr><tr><td>2024-10-30 20:25:23</td><td>2024-10-30 20:31:17</td><td>1</td><td>0.72</td><td>1</td><td>162</td><td>230</td><td>7.2</td><td>2.44</td><td>14.64</td></tr><tr><td>2024-10-19 08:31:00</td><td>2024-10-19 08:33:00</td><td>null</td><td>0.53</td><td>null</td><td>41</td><td>24</td><td>7.97</td><td>0.0</td><td>9.47</td></tr><tr><td>2024-11-26 20:44:10</td><td>2024-11-26 21:00:06</td><td>1</td><td>7.72</td><td>1</td><td>132</td><td>93</td><td>30.3</td><td>0.0</td><td>34.55</td></tr><tr><td>&hellip;</td><td>&hellip;</td><td>&hellip;</td><td>&hellip;</td><td>&hellip;</td><td>&hellip;</td><td>&hellip;</td><td>&hellip;</td><td>&hellip;</td><td>&hellip;</td></tr><tr><td>2024-12-24 18:29:48</td><td>2024-12-24 19:19:45</td><td>6</td><td>17.69</td><td>1</td><td>132</td><td>51</td><td>73.0</td><td>0.0</td><td>83.94</td></tr><tr><td>2024-11-26 16:26:29</td><td>2024-11-26 17:00:21</td><td>2</td><td>2.41</td><td>1</td><td>163</td><td>170</td><td>28.2</td><td>5.0</td><td>39.7</td></tr><tr><td>2024-10-22 20:48:02</td><td>2024-10-22 21:06:39</td><td>1</td><td>2.79</td><td>1</td><td>246</td><td>229</td><td>17.7</td><td>4.54</td><td>27.24</td></tr><tr><td>2024-11-30 19:15:20</td><td>2024-11-30 19:39:41</td><td>0</td><td>9.3</td><td>1</td><td>138</td><td>141</td><td>38.0</td><td>9.0</td><td>64.69</td></tr><tr><td>2024-10-23 17:29:12</td><td>2024-10-23 17:46:12</td><td>1</td><td>2.13</td><td>1</td><td>162</td><td>234</td><td>16.3</td><td>4.56</td><td>27.36</td></tr></tbody></table></div>"
            ]
          },
          "metadata": {},
          "execution_count": 50
        }
      ]
    },
    {
      "cell_type": "code",
      "source": [
        "# Handle missing value\n",
        "for col in ['passenger_count', 'RatecodeID']:\n",
        "    if cl_quarters4_ytaxi[col].null_count():\n",
        "        mode_value = cl_quarters4_ytaxi[col].mode()[0]\n",
        "        cl_quarters4_ytaxi = cl_quarters4_ytaxi.with_columns(\n",
        "            cl_quarters4_ytaxi[col].fill_null(mode_value).alias(col)\n",
        "        )\n",
        "        print(f\"Filled missing values in '{col}' with mode: {mode_value}\")"
      ],
      "metadata": {
        "colab": {
          "base_uri": "https://localhost:8080/"
        },
        "id": "upiiA9KUnp_G",
        "outputId": "422bc5a4-c7c9-4acf-ac51-59dfaa6579a5"
      },
      "id": "upiiA9KUnp_G",
      "execution_count": 56,
      "outputs": [
        {
          "output_type": "stream",
          "name": "stdout",
          "text": [
            "Filled missing values in 'passenger_count' with mode: 1\n",
            "Filled missing values in 'RatecodeID' with mode: 1\n"
          ]
        }
      ]
    },
    {
      "cell_type": "code",
      "source": [
        "cl_quarters4_ytaxi.null_count()"
      ],
      "metadata": {
        "colab": {
          "base_uri": "https://localhost:8080/",
          "height": 148
        },
        "id": "JltTK9tLoeCg",
        "outputId": "2c906d1b-bdaa-4f2a-829a-bc8ce621e0c8"
      },
      "id": "JltTK9tLoeCg",
      "execution_count": 58,
      "outputs": [
        {
          "output_type": "execute_result",
          "data": {
            "text/plain": [
              "shape: (1, 10)\n",
              "┌───────────┬───────────┬───────────┬───────────┬───┬───────────┬───────────┬───────────┬──────────┐\n",
              "│ tpep_pick ┆ tpep_drop ┆ passenger ┆ trip_dist ┆ … ┆ DOLocatio ┆ fare_amou ┆ tip_amoun ┆ total_am │\n",
              "│ up_dateti ┆ off_datet ┆ _count    ┆ ance      ┆   ┆ nID       ┆ nt        ┆ t         ┆ ount     │\n",
              "│ me        ┆ ime       ┆ ---       ┆ ---       ┆   ┆ ---       ┆ ---       ┆ ---       ┆ ---      │\n",
              "│ ---       ┆ ---       ┆ u32       ┆ u32       ┆   ┆ u32       ┆ u32       ┆ u32       ┆ u32      │\n",
              "│ u32       ┆ u32       ┆           ┆           ┆   ┆           ┆           ┆           ┆          │\n",
              "╞═══════════╪═══════════╪═══════════╪═══════════╪═══╪═══════════╪═══════════╪═══════════╪══════════╡\n",
              "│ 0         ┆ 0         ┆ 0         ┆ 0         ┆ … ┆ 0         ┆ 0         ┆ 0         ┆ 0        │\n",
              "└───────────┴───────────┴───────────┴───────────┴───┴───────────┴───────────┴───────────┴──────────┘"
            ],
            "text/html": [
              "<div><style>\n",
              ".dataframe > thead > tr,\n",
              ".dataframe > tbody > tr {\n",
              "  text-align: right;\n",
              "  white-space: pre-wrap;\n",
              "}\n",
              "</style>\n",
              "<small>shape: (1, 10)</small><table border=\"1\" class=\"dataframe\"><thead><tr><th>tpep_pickup_datetime</th><th>tpep_dropoff_datetime</th><th>passenger_count</th><th>trip_distance</th><th>RatecodeID</th><th>PULocationID</th><th>DOLocationID</th><th>fare_amount</th><th>tip_amount</th><th>total_amount</th></tr><tr><td>u32</td><td>u32</td><td>u32</td><td>u32</td><td>u32</td><td>u32</td><td>u32</td><td>u32</td><td>u32</td><td>u32</td></tr></thead><tbody><tr><td>0</td><td>0</td><td>0</td><td>0</td><td>0</td><td>0</td><td>0</td><td>0</td><td>0</td><td>0</td></tr></tbody></table></div>"
            ]
          },
          "metadata": {},
          "execution_count": 58
        }
      ]
    },
    {
      "cell_type": "code",
      "source": [
        "# Check outliers and noise by looking at descriptive statistics\n",
        "cl_quarters4_ytaxi.describe()"
      ],
      "metadata": {
        "colab": {
          "base_uri": "https://localhost:8080/",
          "height": 413
        },
        "id": "GZCo8PafisRB",
        "outputId": "64c1f25b-8331-40f8-ab35-e8bf3d16af97"
      },
      "id": "GZCo8PafisRB",
      "execution_count": 59,
      "outputs": [
        {
          "output_type": "execute_result",
          "data": {
            "text/plain": [
              "shape: (9, 11)\n",
              "┌───────────┬───────────┬───────────┬───────────┬───┬───────────┬───────────┬───────────┬──────────┐\n",
              "│ statistic ┆ tpep_pick ┆ tpep_drop ┆ passenger ┆ … ┆ DOLocatio ┆ fare_amou ┆ tip_amoun ┆ total_am │\n",
              "│ ---       ┆ up_dateti ┆ off_datet ┆ _count    ┆   ┆ nID       ┆ nt        ┆ t         ┆ ount     │\n",
              "│ str       ┆ me        ┆ ime       ┆ ---       ┆   ┆ ---       ┆ ---       ┆ ---       ┆ ---      │\n",
              "│           ┆ ---       ┆ ---       ┆ f64       ┆   ┆ f64       ┆ f64       ┆ f64       ┆ f64      │\n",
              "│           ┆ str       ┆ str       ┆           ┆   ┆           ┆           ┆           ┆          │\n",
              "╞═══════════╪═══════════╪═══════════╪═══════════╪═══╪═══════════╪═══════════╪═══════════╪══════════╡\n",
              "│ count     ┆ 11148509  ┆ 11148509  ┆ 1.1148509 ┆ … ┆ 1.1148509 ┆ 1.1148509 ┆ 1.1148509 ┆ 1.114850 │\n",
              "│           ┆           ┆           ┆ e7        ┆   ┆ e7        ┆ e7        ┆ e7        ┆ 9e7      │\n",
              "│ null_coun ┆ 0         ┆ 0         ┆ 0.0       ┆ … ┆ 0.0       ┆ 0.0       ┆ 0.0       ┆ 0.0      │\n",
              "│ t         ┆           ┆           ┆           ┆   ┆           ┆           ┆           ┆          │\n",
              "│ mean      ┆ 2024-11-1 ┆ 2024-11-1 ┆ 1.300131  ┆ … ┆ 163.86468 ┆ 19.53022  ┆ 3.400366  ┆ 28.13936 │\n",
              "│           ┆ 5 05:18:2 ┆ 5 05:36:4 ┆           ┆   ┆ 8         ┆           ┆           ┆          │\n",
              "│           ┆ 8.755393  ┆ 3.738697  ┆           ┆   ┆           ┆           ┆           ┆          │\n",
              "│ std       ┆ null      ┆ null      ┆ 0.758417  ┆ … ┆ 69.550859 ┆ 102.36070 ┆ 4.146758  ┆ 103.3913 │\n",
              "│           ┆           ┆           ┆           ┆   ┆           ┆ 2         ┆           ┆ 91       │\n",
              "│ min       ┆ 2002-12-3 ┆ 2002-12-3 ┆ 0.0       ┆ … ┆ 1.0       ┆ -1458.3   ┆ -93.68    ┆ -1477.68 │\n",
              "│           ┆ 1         ┆ 1         ┆           ┆   ┆           ┆           ┆           ┆          │\n",
              "│           ┆ 22:17:43  ┆ 22:23:55  ┆           ┆   ┆           ┆           ┆           ┆          │\n",
              "│ 25%       ┆ 2024-10-2 ┆ 2024-10-2 ┆ 1.0       ┆ … ┆ 113.0     ┆ 9.3       ┆ 0.0       ┆ 15.96    │\n",
              "│           ┆ 3         ┆ 3         ┆           ┆   ┆           ┆           ┆           ┆          │\n",
              "│           ┆ 22:56:30  ┆ 23:12:23  ┆           ┆   ┆           ┆           ┆           ┆          │\n",
              "│ 50%       ┆ 2024-11-1 ┆ 2024-11-1 ┆ 1.0       ┆ … ┆ 162.0     ┆ 14.2      ┆ 2.66      ┆ 21.38    │\n",
              "│           ┆ 5         ┆ 5         ┆           ┆   ┆           ┆           ┆           ┆          │\n",
              "│           ┆ 08:13:53  ┆ 08:31:40  ┆           ┆   ┆           ┆           ┆           ┆          │\n",
              "│ 75%       ┆ 2024-12-0 ┆ 2024-12-0 ┆ 1.0       ┆ … ┆ 234.0     ┆ 23.3      ┆ 4.4       ┆ 31.33    │\n",
              "│           ┆ 7         ┆ 7         ┆           ┆   ┆           ┆           ┆           ┆          │\n",
              "│           ┆ 20:14:21  ┆ 20:34:18  ┆           ┆   ┆           ┆           ┆           ┆          │\n",
              "│ max       ┆ 2025-03-2 ┆ 2025-03-2 ┆ 9.0       ┆ … ┆ 265.0     ┆ 335544.44 ┆ 572.5     ┆ 335550.9 │\n",
              "│           ┆ 3         ┆ 3         ┆           ┆   ┆           ┆           ┆           ┆ 4        │\n",
              "│           ┆ 20:42:06  ┆ 22:52:56  ┆           ┆   ┆           ┆           ┆           ┆          │\n",
              "└───────────┴───────────┴───────────┴───────────┴───┴───────────┴───────────┴───────────┴──────────┘"
            ],
            "text/html": [
              "<div><style>\n",
              ".dataframe > thead > tr,\n",
              ".dataframe > tbody > tr {\n",
              "  text-align: right;\n",
              "  white-space: pre-wrap;\n",
              "}\n",
              "</style>\n",
              "<small>shape: (9, 11)</small><table border=\"1\" class=\"dataframe\"><thead><tr><th>statistic</th><th>tpep_pickup_datetime</th><th>tpep_dropoff_datetime</th><th>passenger_count</th><th>trip_distance</th><th>RatecodeID</th><th>PULocationID</th><th>DOLocationID</th><th>fare_amount</th><th>tip_amount</th><th>total_amount</th></tr><tr><td>str</td><td>str</td><td>str</td><td>f64</td><td>f64</td><td>f64</td><td>f64</td><td>f64</td><td>f64</td><td>f64</td><td>f64</td></tr></thead><tbody><tr><td>&quot;count&quot;</td><td>&quot;11148509&quot;</td><td>&quot;11148509&quot;</td><td>1.1148509e7</td><td>1.1148509e7</td><td>1.1148509e7</td><td>1.1148509e7</td><td>1.1148509e7</td><td>1.1148509e7</td><td>1.1148509e7</td><td>1.1148509e7</td></tr><tr><td>&quot;null_count&quot;</td><td>&quot;0&quot;</td><td>&quot;0&quot;</td><td>0.0</td><td>0.0</td><td>0.0</td><td>0.0</td><td>0.0</td><td>0.0</td><td>0.0</td><td>0.0</td></tr><tr><td>&quot;mean&quot;</td><td>&quot;2024-11-15 05:18:28.755393&quot;</td><td>&quot;2024-11-15 05:36:43.738697&quot;</td><td>1.300131</td><td>5.192251</td><td>2.210202</td><td>164.662115</td><td>163.864688</td><td>19.53022</td><td>3.400366</td><td>28.13936</td></tr><tr><td>&quot;std&quot;</td><td>null</td><td>null</td><td>0.758417</td><td>500.008576</td><td>10.450157</td><td>64.407996</td><td>69.550859</td><td>102.360702</td><td>4.146758</td><td>103.391391</td></tr><tr><td>&quot;min&quot;</td><td>&quot;2002-12-31 22:17:43&quot;</td><td>&quot;2002-12-31 22:23:55&quot;</td><td>0.0</td><td>0.0</td><td>1.0</td><td>1.0</td><td>1.0</td><td>-1458.3</td><td>-93.68</td><td>-1477.68</td></tr><tr><td>&quot;25%&quot;</td><td>&quot;2024-10-23 22:56:30&quot;</td><td>&quot;2024-10-23 23:12:23&quot;</td><td>1.0</td><td>1.0</td><td>1.0</td><td>132.0</td><td>113.0</td><td>9.3</td><td>0.0</td><td>15.96</td></tr><tr><td>&quot;50%&quot;</td><td>&quot;2024-11-15 08:13:53&quot;</td><td>&quot;2024-11-15 08:31:40&quot;</td><td>1.0</td><td>1.71</td><td>1.0</td><td>162.0</td><td>162.0</td><td>14.2</td><td>2.66</td><td>21.38</td></tr><tr><td>&quot;75%&quot;</td><td>&quot;2024-12-07 20:14:21&quot;</td><td>&quot;2024-12-07 20:34:18&quot;</td><td>1.0</td><td>3.3</td><td>1.0</td><td>234.0</td><td>234.0</td><td>23.3</td><td>4.4</td><td>31.33</td></tr><tr><td>&quot;max&quot;</td><td>&quot;2025-03-23 20:42:06&quot;</td><td>&quot;2025-03-23 22:52:56&quot;</td><td>9.0</td><td>398608.62</td><td>99.0</td><td>265.0</td><td>265.0</td><td>335544.44</td><td>572.5</td><td>335550.94</td></tr></tbody></table></div>"
            ]
          },
          "metadata": {},
          "execution_count": 59
        }
      ]
    },
    {
      "cell_type": "code",
      "source": [
        "# import matplotlib.pyplot as plt\n",
        "# import seaborn as sns\n",
        "\n",
        "# # Select numerical columns for box plots\n",
        "# numerical_cols = ['passenger_count', 'trip_distance', 'fare_amount', 'tip_amount', 'total_amount']\n",
        "\n",
        "# # Convert Polars DataFrame to Pandas DataFrame for seaborn plotting\n",
        "# cl_quarters4_ytaxi_pandas = cl_quarters4_ytaxi.to_pandas()\n",
        "\n",
        "# # Create box plots for each numerical column\n",
        "# plt.figure(figsize=(15, 10))\n",
        "# for i, col in enumerate(numerical_cols):\n",
        "#     plt.subplot(2, 3, i + 1)\n",
        "#     sns.boxplot(y=cl_quarters4_ytaxi_pandas[col])\n",
        "#     plt.title(f'Box plot of {col}')\n",
        "# plt.tight_layout()\n",
        "# plt.show()"
      ],
      "metadata": {
        "id": "zwy7-mY-j8S_"
      },
      "id": "zwy7-mY-j8S_",
      "execution_count": null,
      "outputs": []
    },
    {
      "cell_type": "markdown",
      "source": [
        "The box plots show that there are outliers in several of the numerical columns. The next step in your data preparation process should be to decide how to handle these outliers."
      ],
      "metadata": {
        "id": "ST-RIP8cktXc"
      },
      "id": "ST-RIP8cktXc"
    },
    {
      "cell_type": "markdown",
      "id": "80b0633b",
      "metadata": {
        "id": "80b0633b"
      },
      "source": [
        "## Explore Data"
      ]
    },
    {
      "cell_type": "code",
      "execution_count": null,
      "id": "c6f527df",
      "metadata": {
        "id": "c6f527df"
      },
      "outputs": [],
      "source": [
        "# Descriptive statistics\n",
        "\n",
        "# Data visualization\n",
        "# Target variable analysis: examine how each feature correlates with or impacts the target/interested variable\n"
      ]
    },
    {
      "cell_type": "markdown",
      "id": "739ec323",
      "metadata": {
        "id": "739ec323"
      },
      "source": [
        "## Data Modeling"
      ]
    },
    {
      "cell_type": "code",
      "execution_count": null,
      "id": "c78039b5",
      "metadata": {
        "id": "c78039b5"
      },
      "outputs": [],
      "source": [
        "# Partition data\n",
        "\n",
        "# Handle imbalance data (optional)\n",
        "\n",
        "# Model selection and tuning\n",
        "\n",
        "# Evaluate models\n"
      ]
    },
    {
      "cell_type": "markdown",
      "id": "886115e7",
      "metadata": {
        "id": "886115e7"
      },
      "source": [
        "#### สรุปผลที่ได้\n",
        "..."
      ]
    },
    {
      "cell_type": "markdown",
      "id": "6a085636",
      "metadata": {
        "id": "6a085636"
      },
      "source": [
        "-----------------\n",
        "# เสร็จแล้ววววว 🥳\n",
        "\n",
        "สิ่งที่ต้องแนบส่ง:\n",
        "* Notebook File (ตัวอย่าง \"filename.ipynb\") หรือ Link to Google Colab / GitHub ซึ่งมีผลลัพธ์จากการรันโค้ดแสดงทั้งหมด\n",
        "* Slides สำหรับการนำเสนอ **10** นาที ซึ่งประกอบไปด้วย\n",
        "    * Data Description: อธิบายข้อมูลที่ใช้\n",
        "    * Data Preparation: การเตรียมข้อมูลก่อนวิเคราะห์\n",
        "    * Motivation: ปัญหาหรือคำถามที่ตั้ง ทำไมถึงสนใจที่จะทำงานในเรื่องนี้\n",
        "    * Communicating Results (with figure, table, etc.): ผลที่ได้จากการศึกษา โดยระบุแนวทางที่ใช้ที่ทำให้เกิดผลลัพธ์ดังกล่าวด้วย\n",
        "        โดยไม่ต้องนำเสนอ source code ผลประกอบด้วย 2 ส่วนสำคัญ จาก\n",
        "        * Conjectures >= 3 ข้อ\n",
        "        * Machine learning models\n",
        "    * Conclusion: สรุปผลที่ได้จากการวิเคราะห์ข้อมูล\n",
        "** Note: แต่ละกลุ่มส่งแต่ละไฟล์ครั้งเดียว **\n",
        "---------------------"
      ]
    }
  ],
  "metadata": {
    "kernelspec": {
      "display_name": "Python 3 (ipykernel)",
      "language": "python",
      "name": "python3"
    },
    "language_info": {
      "codemirror_mode": {
        "name": "ipython",
        "version": 3
      },
      "file_extension": ".py",
      "mimetype": "text/x-python",
      "name": "python",
      "nbconvert_exporter": "python",
      "pygments_lexer": "ipython3",
      "version": "3.8.8"
    },
    "colab": {
      "provenance": [],
      "toc_visible": true,
      "include_colab_link": true
    }
  },
  "nbformat": 4,
  "nbformat_minor": 5
}