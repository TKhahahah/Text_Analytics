{
  "cells": [
    {
      "cell_type": "markdown",
      "metadata": {
        "id": "view-in-github",
        "colab_type": "text"
      },
      "source": [
        "<a href=\"https://colab.research.google.com/github/TKhahahah/Text_Analytics/blob/main/Text_Analytics68.ipynb\" target=\"_parent\"><img src=\"https://colab.research.google.com/assets/colab-badge.svg\" alt=\"Open In Colab\"/></a>"
      ]
    },
    {
      "cell_type": "markdown",
      "id": "2e4a7b28",
      "metadata": {
        "id": "2e4a7b28"
      },
      "source": [
        "# Mini Project 1: Text Analytics"
      ]
    },
    {
      "cell_type": "markdown",
      "id": "8856eee3",
      "metadata": {
        "id": "8856eee3"
      },
      "source": [
        "<img src=\"https://www.datanami.com/wp-content/uploads/2014/06/text-analytics.png\" width=\"500\" />"
      ]
    },
    {
      "cell_type": "markdown",
      "id": "1d9f7e55",
      "metadata": {
        "id": "1d9f7e55"
      },
      "source": [
        "ชื่อกลุ่ม: ..."
      ]
    },
    {
      "cell_type": "markdown",
      "id": "6525cabe",
      "metadata": {
        "id": "6525cabe"
      },
      "source": [
        "รายชื่อสมาชิก การแบ่งงาน และสัดส่วนในการทำงาน:\n",
        "1. ...\n",
        "2. ...\n",
        "3. ...\n",
        "4. ..."
      ]
    },
    {
      "cell_type": "markdown",
      "id": "475c076b",
      "metadata": {
        "id": "475c076b"
      },
      "source": [
        "กำหนดส่ง: อาทิตย์ 5 ตุลาคม 2568 \\\n",
        "รายงานในชั้นเรียน: จันทร์ 6 ตุลาคม 2568"
      ]
    },
    {
      "cell_type": "markdown",
      "id": "6d7668b9",
      "metadata": {
        "id": "6d7668b9"
      },
      "source": [
        "**ผลที่คาดหวังจากการทำงานนี้**\n",
        "* สามารถใช้ Python ในการอ่านข้อมูล\n",
        "* จัดการกับข้อมูลเบื้องต้นในรูปแบบข้อความก่อนนำไปวิเคราะห์\n",
        "* สามารถวิเคราะห์ข้อมูลตัวอักษรเบื้องต้นและสร้าง Data Visualization ที่เหมาะสมได้\n",
        "----------------------"
      ]
    },
    {
      "cell_type": "raw",
      "id": "0365f89e",
      "metadata": {
        "id": "0365f89e"
      },
      "source": [
        "\"\"\"\n",
        "# reading data sets from Google Drive\n",
        "from google.colab import drive\n",
        "drive.mount('/content/drive')\n",
        "\"\"\""
      ]
    },
    {
      "cell_type": "code",
      "execution_count": 1,
      "id": "76bc1ee7",
      "metadata": {
        "id": "76bc1ee7"
      },
      "outputs": [],
      "source": [
        "\"\"\"\n",
        "หากไม่สามารถลง library ใด ให้ดาวน์โหลดดังตัวอย่างต่อไปนี้\n",
        "!pip install nltk\n",
        "!pip install wordcloud\n",
        "!pip install Pillow\n",
        "\"\"\"\n",
        "# Load these libraries\n",
        "import json\n",
        "import pprint\n",
        "import pandas as pd\n",
        "import numpy as np\n",
        "from io import StringIO # using StringIO to prevent ValueError\n",
        "from os import path\n",
        "from PIL import Image\n",
        "from wordcloud import WordCloud, STOPWORDS, ImageColorGenerator\n",
        "import nltk\n",
        "import urllib.request\n",
        "\n",
        "import matplotlib.pyplot as plt\n",
        "%matplotlib inline"
      ]
    },
    {
      "cell_type": "markdown",
      "id": "3dc6dd2d",
      "metadata": {
        "id": "3dc6dd2d"
      },
      "source": [
        "## Problem 1: Working with Twitter Data and JSON file\n",
        "*หมายเหตุ: ไม่ต้องนำเสนอข้อนี้*\n",
        "\n",
        "จากข้อมูลทวิตเตอร์เกี่ยวกับประเทศไทยที่เก็บในวันที่ 31 สิงหาคม 2565 ในรูปแบบ JSON จาก `thailand_tweets.txt` ซึ่งมีการดึงข้อมูลมาด้วยคีเวิร์ด \"Thailand\" ให้ทำการศึกษาข้อมูลและดึงค่าจากข้อมูล \\\n",
        "ทั้งนี้เราสามารถเรียกหน้าทวีตจาก tweet ID ได้ดังนี้\n",
        "```\n",
        "twitter.com/anyuser/status/<tweet_id>\n",
        "```\n"
      ]
    },
    {
      "cell_type": "markdown",
      "id": "dc264559",
      "metadata": {
        "id": "dc264559"
      },
      "source": [
        "#### Read JSON file"
      ]
    },
    {
      "cell_type": "code",
      "execution_count": null,
      "id": "b7b59426",
      "metadata": {
        "id": "b7b59426",
        "scrolled": true
      },
      "outputs": [],
      "source": [
        "# ----------------- Your code here -----------------\n"
      ]
    },
    {
      "cell_type": "markdown",
      "id": "89203da4",
      "metadata": {
        "id": "89203da4"
      },
      "source": [
        "#### Inspect data in JSON format (either reading using pretty print or Pandas data frame)"
      ]
    },
    {
      "cell_type": "code",
      "execution_count": null,
      "id": "6ae838e6",
      "metadata": {
        "id": "6ae838e6"
      },
      "outputs": [],
      "source": [
        "# ----------------- Your code here -----------------\n"
      ]
    },
    {
      "cell_type": "markdown",
      "id": "e421eb6b",
      "metadata": {
        "id": "e421eb6b"
      },
      "source": [
        "#### Report: จงตอบคำถามต่อไปนี้\n",
        "* The total number of tweets collected in the file\n",
        "* The content of the first tweet:\n",
        "* Is the first tweet contained any hashtags or mentions?\n",
        "* Collect all hashtags related to Thailand from this data\n",
        "* Find the most popular tweets in your collection of tweets, i.e. the tweets with the largest number of retweet/replies/likes counts  \n",
        "* Display the top 5 tweets that are the most popular among your collection \\\n",
        "สามารถใช้ `np.argsort(<list>)[:5]` ซึ่งจะแสดงผล indices ของการเรียงค่าจากน้อยสุดไปมากสุด จำนวน 5 ค่า และ `np.argsort(<list>)[::-1][:5]` จะแสดงผล indices ของการเรียงค่าจากมากไปน้อยจำนวน 5 ค่า (https://numpy.org/doc/stable/reference/generated/numpy.argsort.html)\n",
        "* Create a word cloud of words in the contents; however, we note that this word cloud is not a good representation of Thailand as the data size is small"
      ]
    },
    {
      "cell_type": "code",
      "execution_count": null,
      "id": "657904ec",
      "metadata": {
        "id": "657904ec"
      },
      "outputs": [],
      "source": [
        "# ----------------- Your code here -----------------\n"
      ]
    },
    {
      "cell_type": "markdown",
      "id": "383b25c2",
      "metadata": {
        "id": "383b25c2"
      },
      "source": [
        "## Problem 2: Study Collected Yelp Reviews"
      ]
    },
    {
      "cell_type": "markdown",
      "id": "f04969cf",
      "metadata": {
        "id": "f04969cf"
      },
      "source": [
        "![](https://techcrunch.com/wp-content/uploads/2022/08/Yelp-Android_Full-Experience.jpg?w=1390&crop=1)"
      ]
    },
    {
      "cell_type": "markdown",
      "id": "4069d9f2",
      "metadata": {
        "id": "4069d9f2"
      },
      "source": [
        "ดาวน์โหลด Yelp dataset เกี่ยวกับรีวิวของผู้ใช้บริการธุรกิจต่าง ๆ จาก https://www.yelp.com/dataset\n",
        "<br>\n",
        "รายละเอียดข้อมูล https://www.yelp.com/dataset/documentation/main\n",
        "<br>\n",
        "ให้ศึกษาข้อมูลจากไฟล์ yelp_academic_dataset_review.json, yelp_academic_dataset_business.json, และ yelp_academic_dataset_user.json"
      ]
    },
    {
      "cell_type": "markdown",
      "id": "d4692d1f",
      "metadata": {
        "id": "d4692d1f"
      },
      "source": [
        "### อ่านข้อมูล Reviews, Businesses, และ Users เป็นจำนวน 100,000 รีวิว"
      ]
    },
    {
      "cell_type": "code",
      "execution_count": null,
      "id": "1be6476f",
      "metadata": {
        "id": "1be6476f"
      },
      "outputs": [],
      "source": [
        "# เปลี่ยน path ของ working directory เช่น ที่ไหนใน Google Drive\n",
        "myDirectory = \"/Users/pitchayaw/Desktop/TeachingKKU/BasicOfDS/CaseStudy2/\"\n",
        "reviewFilePath = \"yelp_academic_dataset_review.json\"\n",
        "businessFilePath = \"yelp_academic_dataset_business.json\"\n",
        "userFilePath = \"yelp_academic_dataset_user.json\""
      ]
    },
    {
      "cell_type": "markdown",
      "id": "8f6b3215",
      "metadata": {
        "id": "8f6b3215"
      },
      "source": [
        "อ่านข้อมูล review"
      ]
    },
    {
      "cell_type": "code",
      "execution_count": null,
      "id": "1c05f8e8",
      "metadata": {
        "colab": {
          "base_uri": "https://localhost:8080/",
          "height": 228
        },
        "id": "1c05f8e8",
        "outputId": "ccc1d13a-95e7-4006-a058-cbc5e8df2176"
      },
      "outputs": [
        {
          "data": {
            "text/html": [
              "<div>\n",
              "<style scoped>\n",
              "    .dataframe tbody tr th:only-of-type {\n",
              "        vertical-align: middle;\n",
              "    }\n",
              "\n",
              "    .dataframe tbody tr th {\n",
              "        vertical-align: top;\n",
              "    }\n",
              "\n",
              "    .dataframe thead th {\n",
              "        text-align: right;\n",
              "    }\n",
              "</style>\n",
              "<table border=\"1\" class=\"dataframe\">\n",
              "  <thead>\n",
              "    <tr style=\"text-align: right;\">\n",
              "      <th></th>\n",
              "      <th>review_id</th>\n",
              "      <th>user_id</th>\n",
              "      <th>business_id</th>\n",
              "      <th>stars</th>\n",
              "      <th>useful</th>\n",
              "      <th>funny</th>\n",
              "      <th>cool</th>\n",
              "      <th>text</th>\n",
              "      <th>date</th>\n",
              "    </tr>\n",
              "  </thead>\n",
              "  <tbody>\n",
              "    <tr>\n",
              "      <th>0</th>\n",
              "      <td>KU_O5udG6zpxOg-VcAEodg</td>\n",
              "      <td>mh_-eMZ6K5RLWhZyISBhwA</td>\n",
              "      <td>XQfwVwDr-v0ZS3_CbbE5Xw</td>\n",
              "      <td>3.0</td>\n",
              "      <td>0</td>\n",
              "      <td>0</td>\n",
              "      <td>0</td>\n",
              "      <td>If you decide to eat here, just be aware it is...</td>\n",
              "      <td>2018-07-07 22:09:11</td>\n",
              "    </tr>\n",
              "    <tr>\n",
              "      <th>1</th>\n",
              "      <td>BiTunyQ73aT9WBnpR9DZGw</td>\n",
              "      <td>OyoGAe7OKpv6SyGZT5g77Q</td>\n",
              "      <td>7ATYjTIgM3jUlt4UM3IypQ</td>\n",
              "      <td>5.0</td>\n",
              "      <td>1</td>\n",
              "      <td>0</td>\n",
              "      <td>1</td>\n",
              "      <td>I've taken a lot of spin classes over the year...</td>\n",
              "      <td>2012-01-03 15:28:18</td>\n",
              "    </tr>\n",
              "    <tr>\n",
              "      <th>2</th>\n",
              "      <td>saUsX_uimxRlCVr67Z4Jig</td>\n",
              "      <td>8g_iMtfSiwikVnbP2etR0A</td>\n",
              "      <td>YjUWPpI6HXG530lwP-fb2A</td>\n",
              "      <td>3.0</td>\n",
              "      <td>0</td>\n",
              "      <td>0</td>\n",
              "      <td>0</td>\n",
              "      <td>Family diner. Had the buffet. Eclectic assortm...</td>\n",
              "      <td>2014-02-05 20:30:30</td>\n",
              "    </tr>\n",
              "    <tr>\n",
              "      <th>3</th>\n",
              "      <td>AqPFMleE6RsU23_auESxiA</td>\n",
              "      <td>_7bHUi9Uuf5__HHc_Q8guQ</td>\n",
              "      <td>kxX2SOes4o-D3ZQBkiMRfA</td>\n",
              "      <td>5.0</td>\n",
              "      <td>1</td>\n",
              "      <td>0</td>\n",
              "      <td>1</td>\n",
              "      <td>Wow!  Yummy, different,  delicious.   Our favo...</td>\n",
              "      <td>2015-01-04 00:01:03</td>\n",
              "    </tr>\n",
              "    <tr>\n",
              "      <th>4</th>\n",
              "      <td>Sx8TMOWLNuJBWer-0pcmoA</td>\n",
              "      <td>bcjbaE6dDog4jkNY91ncLQ</td>\n",
              "      <td>e4Vwtrqf-wpJfwesgvdgxQ</td>\n",
              "      <td>4.0</td>\n",
              "      <td>1</td>\n",
              "      <td>0</td>\n",
              "      <td>1</td>\n",
              "      <td>Cute interior and owner (?) gave us tour of up...</td>\n",
              "      <td>2017-01-14 20:54:15</td>\n",
              "    </tr>\n",
              "  </tbody>\n",
              "</table>\n",
              "</div>"
            ],
            "text/plain": [
              "                review_id                 user_id             business_id  \\\n",
              "0  KU_O5udG6zpxOg-VcAEodg  mh_-eMZ6K5RLWhZyISBhwA  XQfwVwDr-v0ZS3_CbbE5Xw   \n",
              "1  BiTunyQ73aT9WBnpR9DZGw  OyoGAe7OKpv6SyGZT5g77Q  7ATYjTIgM3jUlt4UM3IypQ   \n",
              "2  saUsX_uimxRlCVr67Z4Jig  8g_iMtfSiwikVnbP2etR0A  YjUWPpI6HXG530lwP-fb2A   \n",
              "3  AqPFMleE6RsU23_auESxiA  _7bHUi9Uuf5__HHc_Q8guQ  kxX2SOes4o-D3ZQBkiMRfA   \n",
              "4  Sx8TMOWLNuJBWer-0pcmoA  bcjbaE6dDog4jkNY91ncLQ  e4Vwtrqf-wpJfwesgvdgxQ   \n",
              "\n",
              "   stars  useful  funny  cool  \\\n",
              "0    3.0       0      0     0   \n",
              "1    5.0       1      0     1   \n",
              "2    3.0       0      0     0   \n",
              "3    5.0       1      0     1   \n",
              "4    4.0       1      0     1   \n",
              "\n",
              "                                                text                 date  \n",
              "0  If you decide to eat here, just be aware it is...  2018-07-07 22:09:11  \n",
              "1  I've taken a lot of spin classes over the year...  2012-01-03 15:28:18  \n",
              "2  Family diner. Had the buffet. Eclectic assortm...  2014-02-05 20:30:30  \n",
              "3  Wow!  Yummy, different,  delicious.   Our favo...  2015-01-04 00:01:03  \n",
              "4  Cute interior and owner (?) gave us tour of up...  2017-01-14 20:54:15  "
            ]
          },
          "execution_count": 15,
          "metadata": {},
          "output_type": "execute_result"
        }
      ],
      "source": [
        "# We only use the first 100,000 reviews\n",
        "n = 100000\n",
        "reviews = []\n",
        "with open(myDirectory+reviewFilePath) as fl:\n",
        "    for i, line in enumerate(fl):\n",
        "        reviews.append(json.loads(line))\n",
        "        if i+1 >= n:\n",
        "            break\n",
        "reviews = pd.DataFrame(reviews)\n",
        "reviews.head()"
      ]
    },
    {
      "cell_type": "code",
      "execution_count": null,
      "id": "3507890b",
      "metadata": {
        "id": "3507890b",
        "outputId": "d93b9b88-cdec-4577-e96d-9200ced8c4f8",
        "scrolled": true
      },
      "outputs": [
        {
          "name": "stdout",
          "output_type": "stream",
          "text": [
            "<class 'pandas.core.frame.DataFrame'>\n",
            "RangeIndex: 100000 entries, 0 to 99999\n",
            "Data columns (total 9 columns):\n",
            " #   Column       Non-Null Count   Dtype  \n",
            "---  ------       --------------   -----  \n",
            " 0   review_id    100000 non-null  object \n",
            " 1   user_id      100000 non-null  object \n",
            " 2   business_id  100000 non-null  object \n",
            " 3   stars        100000 non-null  float64\n",
            " 4   useful       100000 non-null  int64  \n",
            " 5   funny        100000 non-null  int64  \n",
            " 6   cool         100000 non-null  int64  \n",
            " 7   text         100000 non-null  object \n",
            " 8   date         100000 non-null  object \n",
            "dtypes: float64(1), int64(3), object(5)\n",
            "memory usage: 6.9+ MB\n"
          ]
        }
      ],
      "source": [
        "reviews.info()"
      ]
    },
    {
      "cell_type": "markdown",
      "id": "913c1754",
      "metadata": {
        "id": "913c1754"
      },
      "source": [
        "อ่านข้อมูล business"
      ]
    },
    {
      "cell_type": "code",
      "execution_count": null,
      "id": "3106cea8",
      "metadata": {
        "id": "3106cea8",
        "outputId": "7b1b17e5-1d89-4f4f-ee59-e7e78366c234",
        "scrolled": true
      },
      "outputs": [
        {
          "data": {
            "text/html": [
              "<div>\n",
              "<style scoped>\n",
              "    .dataframe tbody tr th:only-of-type {\n",
              "        vertical-align: middle;\n",
              "    }\n",
              "\n",
              "    .dataframe tbody tr th {\n",
              "        vertical-align: top;\n",
              "    }\n",
              "\n",
              "    .dataframe thead th {\n",
              "        text-align: right;\n",
              "    }\n",
              "</style>\n",
              "<table border=\"1\" class=\"dataframe\">\n",
              "  <thead>\n",
              "    <tr style=\"text-align: right;\">\n",
              "      <th></th>\n",
              "      <th>business_id</th>\n",
              "      <th>name</th>\n",
              "      <th>address</th>\n",
              "      <th>city</th>\n",
              "      <th>state</th>\n",
              "      <th>postal_code</th>\n",
              "      <th>latitude</th>\n",
              "      <th>longitude</th>\n",
              "      <th>stars</th>\n",
              "      <th>review_count</th>\n",
              "      <th>is_open</th>\n",
              "      <th>attributes</th>\n",
              "      <th>categories</th>\n",
              "      <th>hours</th>\n",
              "    </tr>\n",
              "  </thead>\n",
              "  <tbody>\n",
              "    <tr>\n",
              "      <th>0</th>\n",
              "      <td>Pns2l4eNsfO8kk83dixA6A</td>\n",
              "      <td>Abby Rappoport, LAC, CMQ</td>\n",
              "      <td>1616 Chapala St, Ste 2</td>\n",
              "      <td>Santa Barbara</td>\n",
              "      <td>CA</td>\n",
              "      <td>93101</td>\n",
              "      <td>34.426679</td>\n",
              "      <td>-119.711197</td>\n",
              "      <td>5.0</td>\n",
              "      <td>7</td>\n",
              "      <td>0</td>\n",
              "      <td>{'ByAppointmentOnly': 'True'}</td>\n",
              "      <td>Doctors, Traditional Chinese Medicine, Naturop...</td>\n",
              "      <td>None</td>\n",
              "    </tr>\n",
              "    <tr>\n",
              "      <th>1</th>\n",
              "      <td>mpf3x-BjTdTEA3yCZrAYPw</td>\n",
              "      <td>The UPS Store</td>\n",
              "      <td>87 Grasso Plaza Shopping Center</td>\n",
              "      <td>Affton</td>\n",
              "      <td>MO</td>\n",
              "      <td>63123</td>\n",
              "      <td>38.551126</td>\n",
              "      <td>-90.335695</td>\n",
              "      <td>3.0</td>\n",
              "      <td>15</td>\n",
              "      <td>1</td>\n",
              "      <td>{'BusinessAcceptsCreditCards': 'True'}</td>\n",
              "      <td>Shipping Centers, Local Services, Notaries, Ma...</td>\n",
              "      <td>{'Monday': '0:0-0:0', 'Tuesday': '8:0-18:30', ...</td>\n",
              "    </tr>\n",
              "    <tr>\n",
              "      <th>2</th>\n",
              "      <td>tUFrWirKiKi_TAnsVWINQQ</td>\n",
              "      <td>Target</td>\n",
              "      <td>5255 E Broadway Blvd</td>\n",
              "      <td>Tucson</td>\n",
              "      <td>AZ</td>\n",
              "      <td>85711</td>\n",
              "      <td>32.223236</td>\n",
              "      <td>-110.880452</td>\n",
              "      <td>3.5</td>\n",
              "      <td>22</td>\n",
              "      <td>0</td>\n",
              "      <td>{'BikeParking': 'True', 'BusinessAcceptsCredit...</td>\n",
              "      <td>Department Stores, Shopping, Fashion, Home &amp; G...</td>\n",
              "      <td>{'Monday': '8:0-22:0', 'Tuesday': '8:0-22:0', ...</td>\n",
              "    </tr>\n",
              "    <tr>\n",
              "      <th>3</th>\n",
              "      <td>MTSW4McQd7CbVtyjqoe9mw</td>\n",
              "      <td>St Honore Pastries</td>\n",
              "      <td>935 Race St</td>\n",
              "      <td>Philadelphia</td>\n",
              "      <td>PA</td>\n",
              "      <td>19107</td>\n",
              "      <td>39.955505</td>\n",
              "      <td>-75.155564</td>\n",
              "      <td>4.0</td>\n",
              "      <td>80</td>\n",
              "      <td>1</td>\n",
              "      <td>{'RestaurantsDelivery': 'False', 'OutdoorSeati...</td>\n",
              "      <td>Restaurants, Food, Bubble Tea, Coffee &amp; Tea, B...</td>\n",
              "      <td>{'Monday': '7:0-20:0', 'Tuesday': '7:0-20:0', ...</td>\n",
              "    </tr>\n",
              "    <tr>\n",
              "      <th>4</th>\n",
              "      <td>mWMc6_wTdE0EUBKIGXDVfA</td>\n",
              "      <td>Perkiomen Valley Brewery</td>\n",
              "      <td>101 Walnut St</td>\n",
              "      <td>Green Lane</td>\n",
              "      <td>PA</td>\n",
              "      <td>18054</td>\n",
              "      <td>40.338183</td>\n",
              "      <td>-75.471659</td>\n",
              "      <td>4.5</td>\n",
              "      <td>13</td>\n",
              "      <td>1</td>\n",
              "      <td>{'BusinessAcceptsCreditCards': 'True', 'Wheelc...</td>\n",
              "      <td>Brewpubs, Breweries, Food</td>\n",
              "      <td>{'Wednesday': '14:0-22:0', 'Thursday': '16:0-2...</td>\n",
              "    </tr>\n",
              "  </tbody>\n",
              "</table>\n",
              "</div>"
            ],
            "text/plain": [
              "              business_id                      name  \\\n",
              "0  Pns2l4eNsfO8kk83dixA6A  Abby Rappoport, LAC, CMQ   \n",
              "1  mpf3x-BjTdTEA3yCZrAYPw             The UPS Store   \n",
              "2  tUFrWirKiKi_TAnsVWINQQ                    Target   \n",
              "3  MTSW4McQd7CbVtyjqoe9mw        St Honore Pastries   \n",
              "4  mWMc6_wTdE0EUBKIGXDVfA  Perkiomen Valley Brewery   \n",
              "\n",
              "                           address           city state postal_code  \\\n",
              "0           1616 Chapala St, Ste 2  Santa Barbara    CA       93101   \n",
              "1  87 Grasso Plaza Shopping Center         Affton    MO       63123   \n",
              "2             5255 E Broadway Blvd         Tucson    AZ       85711   \n",
              "3                      935 Race St   Philadelphia    PA       19107   \n",
              "4                    101 Walnut St     Green Lane    PA       18054   \n",
              "\n",
              "    latitude   longitude  stars  review_count  is_open  \\\n",
              "0  34.426679 -119.711197    5.0             7        0   \n",
              "1  38.551126  -90.335695    3.0            15        1   \n",
              "2  32.223236 -110.880452    3.5            22        0   \n",
              "3  39.955505  -75.155564    4.0            80        1   \n",
              "4  40.338183  -75.471659    4.5            13        1   \n",
              "\n",
              "                                          attributes  \\\n",
              "0                      {'ByAppointmentOnly': 'True'}   \n",
              "1             {'BusinessAcceptsCreditCards': 'True'}   \n",
              "2  {'BikeParking': 'True', 'BusinessAcceptsCredit...   \n",
              "3  {'RestaurantsDelivery': 'False', 'OutdoorSeati...   \n",
              "4  {'BusinessAcceptsCreditCards': 'True', 'Wheelc...   \n",
              "\n",
              "                                          categories  \\\n",
              "0  Doctors, Traditional Chinese Medicine, Naturop...   \n",
              "1  Shipping Centers, Local Services, Notaries, Ma...   \n",
              "2  Department Stores, Shopping, Fashion, Home & G...   \n",
              "3  Restaurants, Food, Bubble Tea, Coffee & Tea, B...   \n",
              "4                          Brewpubs, Breweries, Food   \n",
              "\n",
              "                                               hours  \n",
              "0                                               None  \n",
              "1  {'Monday': '0:0-0:0', 'Tuesday': '8:0-18:30', ...  \n",
              "2  {'Monday': '8:0-22:0', 'Tuesday': '8:0-22:0', ...  \n",
              "3  {'Monday': '7:0-20:0', 'Tuesday': '7:0-20:0', ...  \n",
              "4  {'Wednesday': '14:0-22:0', 'Thursday': '16:0-2...  "
            ]
          },
          "execution_count": 17,
          "metadata": {},
          "output_type": "execute_result"
        }
      ],
      "source": [
        "businesses = []\n",
        "with open(myDirectory+businessFilePath) as fl:\n",
        "    for i, line in enumerate(fl):\n",
        "        businesses.append(json.loads(line))\n",
        "businesses = pd.DataFrame(businesses)\n",
        "businesses.head()"
      ]
    },
    {
      "cell_type": "code",
      "execution_count": null,
      "id": "f1248ace",
      "metadata": {
        "id": "f1248ace",
        "outputId": "539c1e9e-d4be-4827-c91f-9fe86e7396b2"
      },
      "outputs": [
        {
          "name": "stdout",
          "output_type": "stream",
          "text": [
            "<class 'pandas.core.frame.DataFrame'>\n",
            "RangeIndex: 150346 entries, 0 to 150345\n",
            "Data columns (total 14 columns):\n",
            " #   Column        Non-Null Count   Dtype  \n",
            "---  ------        --------------   -----  \n",
            " 0   business_id   150346 non-null  object \n",
            " 1   name          150346 non-null  object \n",
            " 2   address       150346 non-null  object \n",
            " 3   city          150346 non-null  object \n",
            " 4   state         150346 non-null  object \n",
            " 5   postal_code   150346 non-null  object \n",
            " 6   latitude      150346 non-null  float64\n",
            " 7   longitude     150346 non-null  float64\n",
            " 8   stars         150346 non-null  float64\n",
            " 9   review_count  150346 non-null  int64  \n",
            " 10  is_open       150346 non-null  int64  \n",
            " 11  attributes    136602 non-null  object \n",
            " 12  categories    150243 non-null  object \n",
            " 13  hours         127123 non-null  object \n",
            "dtypes: float64(3), int64(2), object(9)\n",
            "memory usage: 16.1+ MB\n"
          ]
        }
      ],
      "source": [
        "businesses.info()"
      ]
    },
    {
      "cell_type": "markdown",
      "id": "c0d16eb5",
      "metadata": {
        "id": "c0d16eb5"
      },
      "source": [
        "อ่านข้อมูล user"
      ]
    },
    {
      "cell_type": "code",
      "execution_count": null,
      "id": "746a5322",
      "metadata": {
        "id": "746a5322",
        "outputId": "65ee41dc-783b-492e-fb3b-ea943767538e",
        "scrolled": true
      },
      "outputs": [
        {
          "data": {
            "text/html": [
              "<div>\n",
              "<style scoped>\n",
              "    .dataframe tbody tr th:only-of-type {\n",
              "        vertical-align: middle;\n",
              "    }\n",
              "\n",
              "    .dataframe tbody tr th {\n",
              "        vertical-align: top;\n",
              "    }\n",
              "\n",
              "    .dataframe thead th {\n",
              "        text-align: right;\n",
              "    }\n",
              "</style>\n",
              "<table border=\"1\" class=\"dataframe\">\n",
              "  <thead>\n",
              "    <tr style=\"text-align: right;\">\n",
              "      <th></th>\n",
              "      <th>user_id</th>\n",
              "      <th>name</th>\n",
              "      <th>review_count</th>\n",
              "      <th>yelping_since</th>\n",
              "      <th>useful</th>\n",
              "      <th>funny</th>\n",
              "      <th>cool</th>\n",
              "      <th>elite</th>\n",
              "      <th>friends</th>\n",
              "      <th>fans</th>\n",
              "      <th>...</th>\n",
              "      <th>compliment_more</th>\n",
              "      <th>compliment_profile</th>\n",
              "      <th>compliment_cute</th>\n",
              "      <th>compliment_list</th>\n",
              "      <th>compliment_note</th>\n",
              "      <th>compliment_plain</th>\n",
              "      <th>compliment_cool</th>\n",
              "      <th>compliment_funny</th>\n",
              "      <th>compliment_writer</th>\n",
              "      <th>compliment_photos</th>\n",
              "    </tr>\n",
              "  </thead>\n",
              "  <tbody>\n",
              "    <tr>\n",
              "      <th>0</th>\n",
              "      <td>qVc8ODYU5SZjKXVBgXdI7w</td>\n",
              "      <td>Walker</td>\n",
              "      <td>585</td>\n",
              "      <td>2007-01-25 16:47:26</td>\n",
              "      <td>7217</td>\n",
              "      <td>1259</td>\n",
              "      <td>5994</td>\n",
              "      <td>2007</td>\n",
              "      <td>NSCy54eWehBJyZdG2iE84w, pe42u7DcCH2QmI81NX-8qA...</td>\n",
              "      <td>267</td>\n",
              "      <td>...</td>\n",
              "      <td>65</td>\n",
              "      <td>55</td>\n",
              "      <td>56</td>\n",
              "      <td>18</td>\n",
              "      <td>232</td>\n",
              "      <td>844</td>\n",
              "      <td>467</td>\n",
              "      <td>467</td>\n",
              "      <td>239</td>\n",
              "      <td>180</td>\n",
              "    </tr>\n",
              "    <tr>\n",
              "      <th>1</th>\n",
              "      <td>j14WgRoU_-2ZE1aw1dXrJg</td>\n",
              "      <td>Daniel</td>\n",
              "      <td>4333</td>\n",
              "      <td>2009-01-25 04:35:42</td>\n",
              "      <td>43091</td>\n",
              "      <td>13066</td>\n",
              "      <td>27281</td>\n",
              "      <td>2009,2010,2011,2012,2013,2014,2015,2016,2017,2...</td>\n",
              "      <td>ueRPE0CX75ePGMqOFVj6IQ, 52oH4DrRvzzl8wh5UXyU0A...</td>\n",
              "      <td>3138</td>\n",
              "      <td>...</td>\n",
              "      <td>264</td>\n",
              "      <td>184</td>\n",
              "      <td>157</td>\n",
              "      <td>251</td>\n",
              "      <td>1847</td>\n",
              "      <td>7054</td>\n",
              "      <td>3131</td>\n",
              "      <td>3131</td>\n",
              "      <td>1521</td>\n",
              "      <td>1946</td>\n",
              "    </tr>\n",
              "    <tr>\n",
              "      <th>2</th>\n",
              "      <td>2WnXYQFK0hXEoTxPtV2zvg</td>\n",
              "      <td>Steph</td>\n",
              "      <td>665</td>\n",
              "      <td>2008-07-25 10:41:00</td>\n",
              "      <td>2086</td>\n",
              "      <td>1010</td>\n",
              "      <td>1003</td>\n",
              "      <td>2009,2010,2011,2012,2013</td>\n",
              "      <td>LuO3Bn4f3rlhyHIaNfTlnA, j9B4XdHUhDfTKVecyWQgyA...</td>\n",
              "      <td>52</td>\n",
              "      <td>...</td>\n",
              "      <td>13</td>\n",
              "      <td>10</td>\n",
              "      <td>17</td>\n",
              "      <td>3</td>\n",
              "      <td>66</td>\n",
              "      <td>96</td>\n",
              "      <td>119</td>\n",
              "      <td>119</td>\n",
              "      <td>35</td>\n",
              "      <td>18</td>\n",
              "    </tr>\n",
              "    <tr>\n",
              "      <th>3</th>\n",
              "      <td>SZDeASXq7o05mMNLshsdIA</td>\n",
              "      <td>Gwen</td>\n",
              "      <td>224</td>\n",
              "      <td>2005-11-29 04:38:33</td>\n",
              "      <td>512</td>\n",
              "      <td>330</td>\n",
              "      <td>299</td>\n",
              "      <td>2009,2010,2011</td>\n",
              "      <td>enx1vVPnfdNUdPho6PH_wg, 4wOcvMLtU6a9Lslggq74Vg...</td>\n",
              "      <td>28</td>\n",
              "      <td>...</td>\n",
              "      <td>4</td>\n",
              "      <td>1</td>\n",
              "      <td>6</td>\n",
              "      <td>2</td>\n",
              "      <td>12</td>\n",
              "      <td>16</td>\n",
              "      <td>26</td>\n",
              "      <td>26</td>\n",
              "      <td>10</td>\n",
              "      <td>9</td>\n",
              "    </tr>\n",
              "    <tr>\n",
              "      <th>4</th>\n",
              "      <td>hA5lMy-EnncsH4JoR-hFGQ</td>\n",
              "      <td>Karen</td>\n",
              "      <td>79</td>\n",
              "      <td>2007-01-05 19:40:59</td>\n",
              "      <td>29</td>\n",
              "      <td>15</td>\n",
              "      <td>7</td>\n",
              "      <td></td>\n",
              "      <td>PBK4q9KEEBHhFvSXCUirIw, 3FWPpM7KU1gXeOM_ZbYMbA...</td>\n",
              "      <td>1</td>\n",
              "      <td>...</td>\n",
              "      <td>1</td>\n",
              "      <td>0</td>\n",
              "      <td>0</td>\n",
              "      <td>0</td>\n",
              "      <td>1</td>\n",
              "      <td>1</td>\n",
              "      <td>0</td>\n",
              "      <td>0</td>\n",
              "      <td>0</td>\n",
              "      <td>0</td>\n",
              "    </tr>\n",
              "  </tbody>\n",
              "</table>\n",
              "<p>5 rows × 22 columns</p>\n",
              "</div>"
            ],
            "text/plain": [
              "                  user_id    name  review_count        yelping_since  useful  \\\n",
              "0  qVc8ODYU5SZjKXVBgXdI7w  Walker           585  2007-01-25 16:47:26    7217   \n",
              "1  j14WgRoU_-2ZE1aw1dXrJg  Daniel          4333  2009-01-25 04:35:42   43091   \n",
              "2  2WnXYQFK0hXEoTxPtV2zvg   Steph           665  2008-07-25 10:41:00    2086   \n",
              "3  SZDeASXq7o05mMNLshsdIA    Gwen           224  2005-11-29 04:38:33     512   \n",
              "4  hA5lMy-EnncsH4JoR-hFGQ   Karen            79  2007-01-05 19:40:59      29   \n",
              "\n",
              "   funny   cool                                              elite  \\\n",
              "0   1259   5994                                               2007   \n",
              "1  13066  27281  2009,2010,2011,2012,2013,2014,2015,2016,2017,2...   \n",
              "2   1010   1003                           2009,2010,2011,2012,2013   \n",
              "3    330    299                                     2009,2010,2011   \n",
              "4     15      7                                                      \n",
              "\n",
              "                                             friends  fans  ...  \\\n",
              "0  NSCy54eWehBJyZdG2iE84w, pe42u7DcCH2QmI81NX-8qA...   267  ...   \n",
              "1  ueRPE0CX75ePGMqOFVj6IQ, 52oH4DrRvzzl8wh5UXyU0A...  3138  ...   \n",
              "2  LuO3Bn4f3rlhyHIaNfTlnA, j9B4XdHUhDfTKVecyWQgyA...    52  ...   \n",
              "3  enx1vVPnfdNUdPho6PH_wg, 4wOcvMLtU6a9Lslggq74Vg...    28  ...   \n",
              "4  PBK4q9KEEBHhFvSXCUirIw, 3FWPpM7KU1gXeOM_ZbYMbA...     1  ...   \n",
              "\n",
              "   compliment_more  compliment_profile  compliment_cute  compliment_list  \\\n",
              "0               65                  55               56               18   \n",
              "1              264                 184              157              251   \n",
              "2               13                  10               17                3   \n",
              "3                4                   1                6                2   \n",
              "4                1                   0                0                0   \n",
              "\n",
              "   compliment_note  compliment_plain  compliment_cool  compliment_funny  \\\n",
              "0              232               844              467               467   \n",
              "1             1847              7054             3131              3131   \n",
              "2               66                96              119               119   \n",
              "3               12                16               26                26   \n",
              "4                1                 1                0                 0   \n",
              "\n",
              "   compliment_writer  compliment_photos  \n",
              "0                239                180  \n",
              "1               1521               1946  \n",
              "2                 35                 18  \n",
              "3                 10                  9  \n",
              "4                  0                  0  \n",
              "\n",
              "[5 rows x 22 columns]"
            ]
          },
          "execution_count": 21,
          "metadata": {},
          "output_type": "execute_result"
        }
      ],
      "source": [
        "users = []\n",
        "with open(myDirectory+userFilePath) as fl:\n",
        "    for i, line in enumerate(fl):\n",
        "        users.append(json.loads(line))\n",
        "users = pd.DataFrame(users)\n",
        "users.head()"
      ]
    },
    {
      "cell_type": "code",
      "execution_count": null,
      "id": "e4d952ca",
      "metadata": {
        "id": "e4d952ca",
        "outputId": "ac831aa8-b5dd-442b-f219-5beda3ca1e33",
        "scrolled": true
      },
      "outputs": [
        {
          "name": "stdout",
          "output_type": "stream",
          "text": [
            "<class 'pandas.core.frame.DataFrame'>\n",
            "RangeIndex: 1987897 entries, 0 to 1987896\n",
            "Data columns (total 22 columns):\n",
            " #   Column              Dtype  \n",
            "---  ------              -----  \n",
            " 0   user_id             object \n",
            " 1   name                object \n",
            " 2   review_count        int64  \n",
            " 3   yelping_since       object \n",
            " 4   useful              int64  \n",
            " 5   funny               int64  \n",
            " 6   cool                int64  \n",
            " 7   elite               object \n",
            " 8   friends             object \n",
            " 9   fans                int64  \n",
            " 10  average_stars       float64\n",
            " 11  compliment_hot      int64  \n",
            " 12  compliment_more     int64  \n",
            " 13  compliment_profile  int64  \n",
            " 14  compliment_cute     int64  \n",
            " 15  compliment_list     int64  \n",
            " 16  compliment_note     int64  \n",
            " 17  compliment_plain    int64  \n",
            " 18  compliment_cool     int64  \n",
            " 19  compliment_funny    int64  \n",
            " 20  compliment_writer   int64  \n",
            " 21  compliment_photos   int64  \n",
            "dtypes: float64(1), int64(16), object(5)\n",
            "memory usage: 333.7+ MB\n"
          ]
        }
      ],
      "source": [
        "users.info()"
      ]
    },
    {
      "cell_type": "markdown",
      "id": "01df357a",
      "metadata": {
        "id": "01df357a"
      },
      "source": [
        "### รวมข้อมูล Reviews, Businesses, และ Users และสำรวจตัวแปรในข้อมูล"
      ]
    },
    {
      "cell_type": "code",
      "execution_count": null,
      "id": "d44fd9b7",
      "metadata": {
        "id": "d44fd9b7",
        "outputId": "d300434e-65ba-48ad-d84b-52b909308931",
        "scrolled": true
      },
      "outputs": [
        {
          "data": {
            "text/html": [
              "<div>\n",
              "<style scoped>\n",
              "    .dataframe tbody tr th:only-of-type {\n",
              "        vertical-align: middle;\n",
              "    }\n",
              "\n",
              "    .dataframe tbody tr th {\n",
              "        vertical-align: top;\n",
              "    }\n",
              "\n",
              "    .dataframe thead th {\n",
              "        text-align: right;\n",
              "    }\n",
              "</style>\n",
              "<table border=\"1\" class=\"dataframe\">\n",
              "  <thead>\n",
              "    <tr style=\"text-align: right;\">\n",
              "      <th></th>\n",
              "      <th>review_id</th>\n",
              "      <th>user_id</th>\n",
              "      <th>business_id</th>\n",
              "      <th>stars_review</th>\n",
              "      <th>useful_review_business</th>\n",
              "      <th>funny_review_business</th>\n",
              "      <th>cool_review_business</th>\n",
              "      <th>text</th>\n",
              "      <th>date</th>\n",
              "      <th>name_review_business</th>\n",
              "      <th>...</th>\n",
              "      <th>compliment_more</th>\n",
              "      <th>compliment_profile</th>\n",
              "      <th>compliment_cute</th>\n",
              "      <th>compliment_list</th>\n",
              "      <th>compliment_note</th>\n",
              "      <th>compliment_plain</th>\n",
              "      <th>compliment_cool</th>\n",
              "      <th>compliment_funny</th>\n",
              "      <th>compliment_writer</th>\n",
              "      <th>compliment_photos</th>\n",
              "    </tr>\n",
              "  </thead>\n",
              "  <tbody>\n",
              "    <tr>\n",
              "      <th>0</th>\n",
              "      <td>KU_O5udG6zpxOg-VcAEodg</td>\n",
              "      <td>mh_-eMZ6K5RLWhZyISBhwA</td>\n",
              "      <td>XQfwVwDr-v0ZS3_CbbE5Xw</td>\n",
              "      <td>3.0</td>\n",
              "      <td>0</td>\n",
              "      <td>0</td>\n",
              "      <td>0</td>\n",
              "      <td>If you decide to eat here, just be aware it is...</td>\n",
              "      <td>2018-07-07 22:09:11</td>\n",
              "      <td>Turning Point of North Wales</td>\n",
              "      <td>...</td>\n",
              "      <td>0</td>\n",
              "      <td>0</td>\n",
              "      <td>0</td>\n",
              "      <td>0</td>\n",
              "      <td>0</td>\n",
              "      <td>0</td>\n",
              "      <td>1</td>\n",
              "      <td>1</td>\n",
              "      <td>0</td>\n",
              "      <td>0</td>\n",
              "    </tr>\n",
              "    <tr>\n",
              "      <th>1</th>\n",
              "      <td>BiTunyQ73aT9WBnpR9DZGw</td>\n",
              "      <td>OyoGAe7OKpv6SyGZT5g77Q</td>\n",
              "      <td>7ATYjTIgM3jUlt4UM3IypQ</td>\n",
              "      <td>5.0</td>\n",
              "      <td>1</td>\n",
              "      <td>0</td>\n",
              "      <td>1</td>\n",
              "      <td>I've taken a lot of spin classes over the year...</td>\n",
              "      <td>2012-01-03 15:28:18</td>\n",
              "      <td>Body Cycle Spinning Studio</td>\n",
              "      <td>...</td>\n",
              "      <td>0</td>\n",
              "      <td>0</td>\n",
              "      <td>0</td>\n",
              "      <td>0</td>\n",
              "      <td>0</td>\n",
              "      <td>0</td>\n",
              "      <td>0</td>\n",
              "      <td>0</td>\n",
              "      <td>0</td>\n",
              "      <td>0</td>\n",
              "    </tr>\n",
              "    <tr>\n",
              "      <th>2</th>\n",
              "      <td>saUsX_uimxRlCVr67Z4Jig</td>\n",
              "      <td>8g_iMtfSiwikVnbP2etR0A</td>\n",
              "      <td>YjUWPpI6HXG530lwP-fb2A</td>\n",
              "      <td>3.0</td>\n",
              "      <td>0</td>\n",
              "      <td>0</td>\n",
              "      <td>0</td>\n",
              "      <td>Family diner. Had the buffet. Eclectic assortm...</td>\n",
              "      <td>2014-02-05 20:30:30</td>\n",
              "      <td>Kettle Restaurant</td>\n",
              "      <td>...</td>\n",
              "      <td>14</td>\n",
              "      <td>3</td>\n",
              "      <td>1</td>\n",
              "      <td>1</td>\n",
              "      <td>63</td>\n",
              "      <td>96</td>\n",
              "      <td>86</td>\n",
              "      <td>86</td>\n",
              "      <td>49</td>\n",
              "      <td>27</td>\n",
              "    </tr>\n",
              "    <tr>\n",
              "      <th>3</th>\n",
              "      <td>AqPFMleE6RsU23_auESxiA</td>\n",
              "      <td>_7bHUi9Uuf5__HHc_Q8guQ</td>\n",
              "      <td>kxX2SOes4o-D3ZQBkiMRfA</td>\n",
              "      <td>5.0</td>\n",
              "      <td>1</td>\n",
              "      <td>0</td>\n",
              "      <td>1</td>\n",
              "      <td>Wow!  Yummy, different,  delicious.   Our favo...</td>\n",
              "      <td>2015-01-04 00:01:03</td>\n",
              "      <td>Zaika</td>\n",
              "      <td>...</td>\n",
              "      <td>1</td>\n",
              "      <td>0</td>\n",
              "      <td>0</td>\n",
              "      <td>0</td>\n",
              "      <td>0</td>\n",
              "      <td>0</td>\n",
              "      <td>0</td>\n",
              "      <td>0</td>\n",
              "      <td>0</td>\n",
              "      <td>0</td>\n",
              "    </tr>\n",
              "    <tr>\n",
              "      <th>4</th>\n",
              "      <td>Sx8TMOWLNuJBWer-0pcmoA</td>\n",
              "      <td>bcjbaE6dDog4jkNY91ncLQ</td>\n",
              "      <td>e4Vwtrqf-wpJfwesgvdgxQ</td>\n",
              "      <td>4.0</td>\n",
              "      <td>1</td>\n",
              "      <td>0</td>\n",
              "      <td>1</td>\n",
              "      <td>Cute interior and owner (?) gave us tour of up...</td>\n",
              "      <td>2017-01-14 20:54:15</td>\n",
              "      <td>Melt</td>\n",
              "      <td>...</td>\n",
              "      <td>0</td>\n",
              "      <td>0</td>\n",
              "      <td>0</td>\n",
              "      <td>0</td>\n",
              "      <td>0</td>\n",
              "      <td>1</td>\n",
              "      <td>0</td>\n",
              "      <td>0</td>\n",
              "      <td>2</td>\n",
              "      <td>1</td>\n",
              "    </tr>\n",
              "    <tr>\n",
              "      <th>...</th>\n",
              "      <td>...</td>\n",
              "      <td>...</td>\n",
              "      <td>...</td>\n",
              "      <td>...</td>\n",
              "      <td>...</td>\n",
              "      <td>...</td>\n",
              "      <td>...</td>\n",
              "      <td>...</td>\n",
              "      <td>...</td>\n",
              "      <td>...</td>\n",
              "      <td>...</td>\n",
              "      <td>...</td>\n",
              "      <td>...</td>\n",
              "      <td>...</td>\n",
              "      <td>...</td>\n",
              "      <td>...</td>\n",
              "      <td>...</td>\n",
              "      <td>...</td>\n",
              "      <td>...</td>\n",
              "      <td>...</td>\n",
              "      <td>...</td>\n",
              "    </tr>\n",
              "    <tr>\n",
              "      <th>99995</th>\n",
              "      <td>pAEbIxvr6ebx2bHc1XvguA</td>\n",
              "      <td>SMH5CeiLvKx61lKwtLZ_PA</td>\n",
              "      <td>lV0k3BnslFRkuWD_kbKd0Q</td>\n",
              "      <td>4.0</td>\n",
              "      <td>0</td>\n",
              "      <td>0</td>\n",
              "      <td>0</td>\n",
              "      <td>Came here for lunch with a group. They were bu...</td>\n",
              "      <td>2018-05-30 22:28:56</td>\n",
              "      <td>Metro Diner</td>\n",
              "      <td>...</td>\n",
              "      <td>0</td>\n",
              "      <td>0</td>\n",
              "      <td>0</td>\n",
              "      <td>0</td>\n",
              "      <td>0</td>\n",
              "      <td>0</td>\n",
              "      <td>3</td>\n",
              "      <td>3</td>\n",
              "      <td>0</td>\n",
              "      <td>0</td>\n",
              "    </tr>\n",
              "    <tr>\n",
              "      <th>99996</th>\n",
              "      <td>xH1AoE-4nf2ECGQJRjO4_g</td>\n",
              "      <td>2clTdtp-BjphxLjN83CpUA</td>\n",
              "      <td>G0xz3kyRhRi6oZl7KfR0pA</td>\n",
              "      <td>1.0</td>\n",
              "      <td>1</td>\n",
              "      <td>0</td>\n",
              "      <td>0</td>\n",
              "      <td>The equipment is so old and so felty! I just u...</td>\n",
              "      <td>2015-04-05 23:31:52</td>\n",
              "      <td>Esporta Fitness</td>\n",
              "      <td>...</td>\n",
              "      <td>0</td>\n",
              "      <td>0</td>\n",
              "      <td>0</td>\n",
              "      <td>0</td>\n",
              "      <td>0</td>\n",
              "      <td>3</td>\n",
              "      <td>0</td>\n",
              "      <td>0</td>\n",
              "      <td>0</td>\n",
              "      <td>0</td>\n",
              "    </tr>\n",
              "    <tr>\n",
              "      <th>99997</th>\n",
              "      <td>GatIbXTz-WDru5emONUSIg</td>\n",
              "      <td>MRrN6DH3QGCFcDv5RENYVg</td>\n",
              "      <td>C4lZdhasjZVQyDlOiXY1sA</td>\n",
              "      <td>4.0</td>\n",
              "      <td>0</td>\n",
              "      <td>0</td>\n",
              "      <td>0</td>\n",
              "      <td>This is one of my favorite Mexican restaurants...</td>\n",
              "      <td>2016-06-04 00:59:15</td>\n",
              "      <td>Buena Vista Mexican Restaurant</td>\n",
              "      <td>...</td>\n",
              "      <td>0</td>\n",
              "      <td>0</td>\n",
              "      <td>0</td>\n",
              "      <td>0</td>\n",
              "      <td>1</td>\n",
              "      <td>1</td>\n",
              "      <td>0</td>\n",
              "      <td>0</td>\n",
              "      <td>0</td>\n",
              "      <td>0</td>\n",
              "    </tr>\n",
              "    <tr>\n",
              "      <th>99998</th>\n",
              "      <td>6NfkodAdhvI89xONXuBC3A</td>\n",
              "      <td>rnNQzeKJbvqVCsYsL10mkQ</td>\n",
              "      <td>dChRGpit9fM_kZK5pafNyA</td>\n",
              "      <td>2.0</td>\n",
              "      <td>0</td>\n",
              "      <td>0</td>\n",
              "      <td>0</td>\n",
              "      <td>Came here for brunch - had an omlette ($19 + t...</td>\n",
              "      <td>2018-06-11 12:45:08</td>\n",
              "      <td>The Love</td>\n",
              "      <td>...</td>\n",
              "      <td>1</td>\n",
              "      <td>0</td>\n",
              "      <td>0</td>\n",
              "      <td>0</td>\n",
              "      <td>5</td>\n",
              "      <td>1</td>\n",
              "      <td>1</td>\n",
              "      <td>1</td>\n",
              "      <td>0</td>\n",
              "      <td>0</td>\n",
              "    </tr>\n",
              "    <tr>\n",
              "      <th>99999</th>\n",
              "      <td>sJ1BMq7lkKgOWEFx3n6ZRw</td>\n",
              "      <td>_BcWyKQL16ndpBdggh2kNA</td>\n",
              "      <td>hMcgO98QaOFmQVTfCUeGzw</td>\n",
              "      <td>5.0</td>\n",
              "      <td>0</td>\n",
              "      <td>0</td>\n",
              "      <td>0</td>\n",
              "      <td>Came in for my 5-6 month prophy and saw Kara -...</td>\n",
              "      <td>2013-06-06 10:10:33</td>\n",
              "      <td>Dentistry For Life</td>\n",
              "      <td>...</td>\n",
              "      <td>59</td>\n",
              "      <td>42</td>\n",
              "      <td>15</td>\n",
              "      <td>35</td>\n",
              "      <td>262</td>\n",
              "      <td>498</td>\n",
              "      <td>394</td>\n",
              "      <td>394</td>\n",
              "      <td>191</td>\n",
              "      <td>36</td>\n",
              "    </tr>\n",
              "  </tbody>\n",
              "</table>\n",
              "<p>100000 rows × 43 columns</p>\n",
              "</div>"
            ],
            "text/plain": [
              "                    review_id                 user_id             business_id  \\\n",
              "0      KU_O5udG6zpxOg-VcAEodg  mh_-eMZ6K5RLWhZyISBhwA  XQfwVwDr-v0ZS3_CbbE5Xw   \n",
              "1      BiTunyQ73aT9WBnpR9DZGw  OyoGAe7OKpv6SyGZT5g77Q  7ATYjTIgM3jUlt4UM3IypQ   \n",
              "2      saUsX_uimxRlCVr67Z4Jig  8g_iMtfSiwikVnbP2etR0A  YjUWPpI6HXG530lwP-fb2A   \n",
              "3      AqPFMleE6RsU23_auESxiA  _7bHUi9Uuf5__HHc_Q8guQ  kxX2SOes4o-D3ZQBkiMRfA   \n",
              "4      Sx8TMOWLNuJBWer-0pcmoA  bcjbaE6dDog4jkNY91ncLQ  e4Vwtrqf-wpJfwesgvdgxQ   \n",
              "...                       ...                     ...                     ...   \n",
              "99995  pAEbIxvr6ebx2bHc1XvguA  SMH5CeiLvKx61lKwtLZ_PA  lV0k3BnslFRkuWD_kbKd0Q   \n",
              "99996  xH1AoE-4nf2ECGQJRjO4_g  2clTdtp-BjphxLjN83CpUA  G0xz3kyRhRi6oZl7KfR0pA   \n",
              "99997  GatIbXTz-WDru5emONUSIg  MRrN6DH3QGCFcDv5RENYVg  C4lZdhasjZVQyDlOiXY1sA   \n",
              "99998  6NfkodAdhvI89xONXuBC3A  rnNQzeKJbvqVCsYsL10mkQ  dChRGpit9fM_kZK5pafNyA   \n",
              "99999  sJ1BMq7lkKgOWEFx3n6ZRw  _BcWyKQL16ndpBdggh2kNA  hMcgO98QaOFmQVTfCUeGzw   \n",
              "\n",
              "       stars_review  useful_review_business  funny_review_business  \\\n",
              "0               3.0                       0                      0   \n",
              "1               5.0                       1                      0   \n",
              "2               3.0                       0                      0   \n",
              "3               5.0                       1                      0   \n",
              "4               4.0                       1                      0   \n",
              "...             ...                     ...                    ...   \n",
              "99995           4.0                       0                      0   \n",
              "99996           1.0                       1                      0   \n",
              "99997           4.0                       0                      0   \n",
              "99998           2.0                       0                      0   \n",
              "99999           5.0                       0                      0   \n",
              "\n",
              "       cool_review_business  \\\n",
              "0                         0   \n",
              "1                         1   \n",
              "2                         0   \n",
              "3                         1   \n",
              "4                         1   \n",
              "...                     ...   \n",
              "99995                     0   \n",
              "99996                     0   \n",
              "99997                     0   \n",
              "99998                     0   \n",
              "99999                     0   \n",
              "\n",
              "                                                    text                 date  \\\n",
              "0      If you decide to eat here, just be aware it is...  2018-07-07 22:09:11   \n",
              "1      I've taken a lot of spin classes over the year...  2012-01-03 15:28:18   \n",
              "2      Family diner. Had the buffet. Eclectic assortm...  2014-02-05 20:30:30   \n",
              "3      Wow!  Yummy, different,  delicious.   Our favo...  2015-01-04 00:01:03   \n",
              "4      Cute interior and owner (?) gave us tour of up...  2017-01-14 20:54:15   \n",
              "...                                                  ...                  ...   \n",
              "99995  Came here for lunch with a group. They were bu...  2018-05-30 22:28:56   \n",
              "99996  The equipment is so old and so felty! I just u...  2015-04-05 23:31:52   \n",
              "99997  This is one of my favorite Mexican restaurants...  2016-06-04 00:59:15   \n",
              "99998  Came here for brunch - had an omlette ($19 + t...  2018-06-11 12:45:08   \n",
              "99999  Came in for my 5-6 month prophy and saw Kara -...  2013-06-06 10:10:33   \n",
              "\n",
              "                 name_review_business  ... compliment_more compliment_profile  \\\n",
              "0        Turning Point of North Wales  ...               0                  0   \n",
              "1          Body Cycle Spinning Studio  ...               0                  0   \n",
              "2                   Kettle Restaurant  ...              14                  3   \n",
              "3                               Zaika  ...               1                  0   \n",
              "4                                Melt  ...               0                  0   \n",
              "...                               ...  ...             ...                ...   \n",
              "99995                     Metro Diner  ...               0                  0   \n",
              "99996                 Esporta Fitness  ...               0                  0   \n",
              "99997  Buena Vista Mexican Restaurant  ...               0                  0   \n",
              "99998                        The Love  ...               1                  0   \n",
              "99999              Dentistry For Life  ...              59                 42   \n",
              "\n",
              "      compliment_cute compliment_list  compliment_note  compliment_plain  \\\n",
              "0                   0               0                0                 0   \n",
              "1                   0               0                0                 0   \n",
              "2                   1               1               63                96   \n",
              "3                   0               0                0                 0   \n",
              "4                   0               0                0                 1   \n",
              "...               ...             ...              ...               ...   \n",
              "99995               0               0                0                 0   \n",
              "99996               0               0                0                 3   \n",
              "99997               0               0                1                 1   \n",
              "99998               0               0                5                 1   \n",
              "99999              15              35              262               498   \n",
              "\n",
              "       compliment_cool  compliment_funny  compliment_writer compliment_photos  \n",
              "0                    1                 1                  0                 0  \n",
              "1                    0                 0                  0                 0  \n",
              "2                   86                86                 49                27  \n",
              "3                    0                 0                  0                 0  \n",
              "4                    0                 0                  2                 1  \n",
              "...                ...               ...                ...               ...  \n",
              "99995                3                 3                  0                 0  \n",
              "99996                0                 0                  0                 0  \n",
              "99997                0                 0                  0                 0  \n",
              "99998                1                 1                  0                 0  \n",
              "99999              394               394                191                36  \n",
              "\n",
              "[100000 rows x 43 columns]"
            ]
          },
          "execution_count": 23,
          "metadata": {},
          "output_type": "execute_result"
        }
      ],
      "source": [
        "# join reviews and businesses data using inner join\n",
        "df = pd.merge(reviews, businesses, on='business_id', suffixes=('_review', '_business'))\n",
        "# join reviews-businesses and users data using inner join\n",
        "df = pd.merge(df, users, on='user_id', suffixes=('_review_business', '_user'))\n",
        "df"
      ]
    },
    {
      "cell_type": "markdown",
      "id": "717332fa",
      "metadata": {
        "id": "717332fa"
      },
      "source": [
        "### ทำการสำรวจข้อมูลเบื้องต้น"
      ]
    },
    {
      "cell_type": "code",
      "execution_count": null,
      "id": "71c8662d",
      "metadata": {
        "id": "71c8662d",
        "outputId": "833e4ed8-afe6-4119-84c9-d954434ecfac"
      },
      "outputs": [
        {
          "name": "stdout",
          "output_type": "stream",
          "text": [
            "<class 'pandas.core.frame.DataFrame'>\n",
            "RangeIndex: 100000 entries, 0 to 99999\n",
            "Data columns (total 43 columns):\n",
            " #   Column                        Non-Null Count   Dtype  \n",
            "---  ------                        --------------   -----  \n",
            " 0   review_id                     100000 non-null  object \n",
            " 1   user_id                       100000 non-null  object \n",
            " 2   business_id                   100000 non-null  object \n",
            " 3   stars_review                  100000 non-null  float64\n",
            " 4   useful_review_business        100000 non-null  int64  \n",
            " 5   funny_review_business         100000 non-null  int64  \n",
            " 6   cool_review_business          100000 non-null  int64  \n",
            " 7   text                          100000 non-null  object \n",
            " 8   date                          100000 non-null  object \n",
            " 9   name_review_business          100000 non-null  object \n",
            " 10  address                       100000 non-null  object \n",
            " 11  city                          100000 non-null  object \n",
            " 12  state                         100000 non-null  object \n",
            " 13  postal_code                   100000 non-null  object \n",
            " 14  latitude                      100000 non-null  float64\n",
            " 15  longitude                     100000 non-null  float64\n",
            " 16  stars_business                100000 non-null  float64\n",
            " 17  review_count_review_business  100000 non-null  int64  \n",
            " 18  is_open                       100000 non-null  int64  \n",
            " 19  attributes                    98369 non-null   object \n",
            " 20  categories                    99996 non-null   object \n",
            " 21  hours                         94176 non-null   object \n",
            " 22  name_user                     100000 non-null  object \n",
            " 23  review_count_user             100000 non-null  int64  \n",
            " 24  yelping_since                 100000 non-null  object \n",
            " 25  useful_user                   100000 non-null  int64  \n",
            " 26  funny_user                    100000 non-null  int64  \n",
            " 27  cool_user                     100000 non-null  int64  \n",
            " 28  elite                         100000 non-null  object \n",
            " 29  friends                       100000 non-null  object \n",
            " 30  fans                          100000 non-null  int64  \n",
            " 31  average_stars                 100000 non-null  float64\n",
            " 32  compliment_hot                100000 non-null  int64  \n",
            " 33  compliment_more               100000 non-null  int64  \n",
            " 34  compliment_profile            100000 non-null  int64  \n",
            " 35  compliment_cute               100000 non-null  int64  \n",
            " 36  compliment_list               100000 non-null  int64  \n",
            " 37  compliment_note               100000 non-null  int64  \n",
            " 38  compliment_plain              100000 non-null  int64  \n",
            " 39  compliment_cool               100000 non-null  int64  \n",
            " 40  compliment_funny              100000 non-null  int64  \n",
            " 41  compliment_writer             100000 non-null  int64  \n",
            " 42  compliment_photos             100000 non-null  int64  \n",
            "dtypes: float64(5), int64(21), object(17)\n",
            "memory usage: 32.8+ MB\n"
          ]
        }
      ],
      "source": [
        "df.info()"
      ]
    },
    {
      "cell_type": "markdown",
      "id": "5ca1e701",
      "metadata": {
        "id": "5ca1e701"
      },
      "source": [
        "สำรวจการแจกแจงของจำนวนรีวิวที่แต่ละ user ให้"
      ]
    },
    {
      "cell_type": "code",
      "execution_count": null,
      "id": "a33dfbf3",
      "metadata": {
        "id": "a33dfbf3"
      },
      "outputs": [],
      "source": [
        "# ----------------- Your code here -----------------\n"
      ]
    },
    {
      "cell_type": "markdown",
      "id": "7b58d281",
      "metadata": {
        "id": "7b58d281"
      },
      "source": [
        "สำรวจการแจกแจงของจำนวนรีวิวและจำนวนดาวที่แต่ละ business ได้รับ"
      ]
    },
    {
      "cell_type": "code",
      "execution_count": null,
      "id": "74cf9a52",
      "metadata": {
        "id": "74cf9a52"
      },
      "outputs": [],
      "source": [
        "# ----------------- Your code here -----------------\n"
      ]
    },
    {
      "cell_type": "markdown",
      "id": "54a0fdb4",
      "metadata": {
        "id": "54a0fdb4"
      },
      "source": [
        "มีธุรกิจกี่แบบ และธุรกิจในแต่ละแบบมีจำนวนเท่าไหร่"
      ]
    },
    {
      "cell_type": "markdown",
      "id": "fa014e8c",
      "metadata": {
        "id": "fa014e8c"
      },
      "source": [
        "* ลองแยก `categories` ออกเป็น category ย่อย แล้วสามารถนับหรือใช้ฟังก์ชัน Counter `from collections import Counter` ในการนับจำนวนหรือความถี่ของธุรกิจแต่ละแบบ \\\n",
        "ตัวอย่าง https://www.geeksforgeeks.org/counters-in-python-set-1/"
      ]
    },
    {
      "cell_type": "code",
      "execution_count": null,
      "id": "210231ed",
      "metadata": {
        "id": "210231ed"
      },
      "outputs": [],
      "source": [
        "# ----------------- Your code here -----------------\n"
      ]
    },
    {
      "cell_type": "markdown",
      "id": "8868bc29",
      "metadata": {
        "id": "8868bc29"
      },
      "source": [
        "### ให้ตั้งปัญหาหรือคำถาม และวิเคราะห์ข้อมูลเพื่อตอบคำถามดังกล่าว"
      ]
    },
    {
      "cell_type": "markdown",
      "id": "f1553505",
      "metadata": {
        "id": "f1553505"
      },
      "source": [
        "<ระบุจุดประสงค์ของการศึกษา>"
      ]
    },
    {
      "cell_type": "code",
      "execution_count": null,
      "id": "aba95b6b",
      "metadata": {
        "id": "aba95b6b"
      },
      "outputs": [],
      "source": [
        "# ----------------- Your code here -----------------\n"
      ]
    },
    {
      "cell_type": "code",
      "execution_count": null,
      "id": "5505f3ec",
      "metadata": {
        "id": "5505f3ec"
      },
      "outputs": [],
      "source": [
        "#----------------------------------------------\n",
        "# Your code starts here\n",
        "# create some data visualization for the analysis and your presentation\n",
        "\n",
        "\n",
        "\n",
        "\n"
      ]
    },
    {
      "cell_type": "markdown",
      "id": "8972909c",
      "metadata": {
        "id": "8972909c"
      },
      "source": [
        "## Problem 3: Retrieving Data from Internet"
      ]
    },
    {
      "cell_type": "markdown",
      "id": "5996d1d9",
      "metadata": {
        "id": "5996d1d9"
      },
      "source": [
        "ให้แต่ละกลุ่มคิดหัวข้อที่สนใจ และทำการดึงข้อมูลเกี่ยวกับหัวข้อที่สนใจผ่าน url ด้วยฟังก์ชัน `urllib.request.urlopen` จากแหล่งข้อมูลออนไลน์อย่างน้อย 10 แห่ง รวบรวมข้อมูลให้เป็นหนึ่งเดียว"
      ]
    },
    {
      "cell_type": "code",
      "execution_count": null,
      "id": "27fcc0c4",
      "metadata": {
        "id": "27fcc0c4"
      },
      "outputs": [],
      "source": [
        "#----------------------------------------------\n",
        "# Your code starts here\n"
      ]
    },
    {
      "cell_type": "markdown",
      "id": "19abc7d7",
      "metadata": {
        "id": "19abc7d7"
      },
      "source": [
        "เตรียมข้อมูลและทำความสะอาดข้อมูลด้วยการทำ lower case, tokenization, removing stopwords (as well as punctuations, unrelated symbols, etc.), stemming, lemmatization เป็นต้น"
      ]
    },
    {
      "cell_type": "code",
      "execution_count": null,
      "id": "ef193f51",
      "metadata": {
        "id": "ef193f51"
      },
      "outputs": [],
      "source": [
        "#----------------------------------------------\n",
        "# Your code starts here\n"
      ]
    },
    {
      "cell_type": "markdown",
      "id": "520565df",
      "metadata": {
        "id": "520565df"
      },
      "source": [
        "Text Mining: ทำการวิเคราะห์ข้อความที่รวบรวมมาได้ พร้อมทั้งแสดงการนำเสนอที่สร้างสรรค์"
      ]
    },
    {
      "cell_type": "code",
      "execution_count": null,
      "id": "cf6fe6a8",
      "metadata": {
        "id": "cf6fe6a8"
      },
      "outputs": [],
      "source": [
        "#----------------------------------------------\n",
        "# Your code starts here\n"
      ]
    },
    {
      "cell_type": "markdown",
      "id": "35649ff8",
      "metadata": {
        "id": "35649ff8"
      },
      "source": [
        "-----------------\n",
        "# เสร็จแล้ววววว 🥳\n",
        "\n",
        "สิ่งที่ต้องแนบส่ง:\n",
        "* Notebook File (ตัวอย่าง \"filename.ipynb\") หรือ Link to Google Colab ซึ่งมีผลลัพธ์จากการรันโค้ดแสดงทั้งหมด\n",
        "* Slides สำหรับการนำเสนอ **10** นาที ซึ่งประกอบไปด้วย\n",
        "    * ตอบคำถามต่าง ๆ ใน Notebook\n",
        "    * อธิบายวิธีการที่ใช้ และแสดง screenshots ของผลลัพธ์ที่ได้จาก Python Notebook โดยแสดงภาพและตาราง โดยไม่จำเป็นที่จะต้องนำเสนอ source code\n",
        "\n",
        "** Note: แต่ละกลุ่มส่งแค่ครั้งเดียว **"
      ]
    }
  ],
  "metadata": {
    "colab": {
      "provenance": [],
      "include_colab_link": true
    },
    "kernelspec": {
      "display_name": "Python 3 (ipykernel)",
      "language": "python",
      "name": "python3"
    },
    "language_info": {
      "codemirror_mode": {
        "name": "ipython",
        "version": 3
      },
      "file_extension": ".py",
      "mimetype": "text/x-python",
      "name": "python",
      "nbconvert_exporter": "python",
      "pygments_lexer": "ipython3",
      "version": "3.13.1"
    }
  },
  "nbformat": 4,
  "nbformat_minor": 5
}